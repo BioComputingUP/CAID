{
 "cells": [
  {
   "cell_type": "code",
   "execution_count": 149,
   "metadata": {},
   "outputs": [
    {
     "data": {
      "text/plain": [
       "RendererRegistry.enable('jupyterlab')"
      ]
     },
     "execution_count": 149,
     "metadata": {},
     "output_type": "execute_result"
    }
   ],
   "source": [
    "import numpy as np\n",
    "import pandas as pd\n",
    "import seaborn as sns\n",
    "import matplotlib.pyplot as plt\n",
    "from sklearn.metrics import auc\n",
    "import altair as alt\n",
    "import vega3\n",
    "# to use with Jupyter notebook (not JupyterLab) run the following\n",
    "alt.renderers.enable('jupyterlab', embed_options={'renderer': 'svg'})"
   ]
  },
  {
   "cell_type": "code",
   "execution_count": 23,
   "metadata": {},
   "outputs": [
    {
     "data": {
      "text/html": [
       "<div>\n",
       "<style scoped>\n",
       "    .dataframe tbody tr th:only-of-type {\n",
       "        vertical-align: middle;\n",
       "    }\n",
       "\n",
       "    .dataframe tbody tr th {\n",
       "        vertical-align: top;\n",
       "    }\n",
       "\n",
       "    .dataframe thead th {\n",
       "        text-align: right;\n",
       "    }\n",
       "</style>\n",
       "<table border=\"1\" class=\"dataframe\">\n",
       "  <thead>\n",
       "    <tr style=\"text-align: right;\">\n",
       "      <th></th>\n",
       "      <th>BAc</th>\n",
       "      <th>FPR</th>\n",
       "      <th>F1s</th>\n",
       "      <th>F1s_n</th>\n",
       "      <th>MCC</th>\n",
       "      <th>Pre</th>\n",
       "      <th>Pre_n</th>\n",
       "      <th>Rec</th>\n",
       "      <th>Rec_n</th>\n",
       "      <th>BAc_avg</th>\n",
       "      <th>...</th>\n",
       "      <th>Pre_std</th>\n",
       "      <th>Pre_n_avg</th>\n",
       "      <th>Pre_n_std</th>\n",
       "      <th>Rec_avg</th>\n",
       "      <th>Rec_std</th>\n",
       "      <th>Rec_n_avg</th>\n",
       "      <th>Rec_n_std</th>\n",
       "      <th>AUC_PRC</th>\n",
       "      <th>AUC_ROC</th>\n",
       "      <th>Cov</th>\n",
       "    </tr>\n",
       "  </thead>\n",
       "  <tbody>\n",
       "    <tr>\n",
       "      <th>chunk</th>\n",
       "      <td>0.566</td>\n",
       "      <td>0.067</td>\n",
       "      <td>0.198</td>\n",
       "      <td>0.933</td>\n",
       "      <td>0.131</td>\n",
       "      <td>0.198</td>\n",
       "      <td>0.933</td>\n",
       "      <td>0.198</td>\n",
       "      <td>0.933</td>\n",
       "      <td>0.5</td>\n",
       "      <td>...</td>\n",
       "      <td>0.118</td>\n",
       "      <td>0.112</td>\n",
       "      <td>0.052</td>\n",
       "      <td>0.118</td>\n",
       "      <td>0.112</td>\n",
       "      <td>0.118</td>\n",
       "      <td>0.112</td>\n",
       "      <td>NaN</td>\n",
       "      <td>NaN</td>\n",
       "      <td>NaN</td>\n",
       "    </tr>\n",
       "    <tr>\n",
       "      <th>chain</th>\n",
       "      <td>0.566</td>\n",
       "      <td>0.067</td>\n",
       "      <td>0.198</td>\n",
       "      <td>0.933</td>\n",
       "      <td>0.131</td>\n",
       "      <td>0.198</td>\n",
       "      <td>0.933</td>\n",
       "      <td>0.198</td>\n",
       "      <td>0.933</td>\n",
       "      <td>0.5</td>\n",
       "      <td>...</td>\n",
       "      <td>0.118</td>\n",
       "      <td>0.112</td>\n",
       "      <td>0.052</td>\n",
       "      <td>0.118</td>\n",
       "      <td>0.112</td>\n",
       "      <td>0.118</td>\n",
       "      <td>0.112</td>\n",
       "      <td>NaN</td>\n",
       "      <td>NaN</td>\n",
       "      <td>NaN</td>\n",
       "    </tr>\n",
       "    <tr>\n",
       "      <th>cons</th>\n",
       "      <td>NaN</td>\n",
       "      <td>0.856</td>\n",
       "      <td>0.000</td>\n",
       "      <td>0.252</td>\n",
       "      <td>NaN</td>\n",
       "      <td>0.000</td>\n",
       "      <td>1.000</td>\n",
       "      <td>NaN</td>\n",
       "      <td>0.144</td>\n",
       "      <td>NaN</td>\n",
       "      <td>...</td>\n",
       "      <td>0.000</td>\n",
       "      <td>0.211</td>\n",
       "      <td>NaN</td>\n",
       "      <td>0.000</td>\n",
       "      <td>0.000</td>\n",
       "      <td>NaN</td>\n",
       "      <td>0.164</td>\n",
       "      <td>NaN</td>\n",
       "      <td>NaN</td>\n",
       "      <td>1.0</td>\n",
       "    </tr>\n",
       "  </tbody>\n",
       "</table>\n",
       "<p>3 rows × 30 columns</p>\n",
       "</div>"
      ],
      "text/plain": [
       "         BAc    FPR    F1s  F1s_n    MCC    Pre  Pre_n    Rec  Rec_n  BAc_avg  \\\n",
       "chunk  0.566  0.067  0.198  0.933  0.131  0.198  0.933  0.198  0.933      0.5   \n",
       "chain  0.566  0.067  0.198  0.933  0.131  0.198  0.933  0.198  0.933      0.5   \n",
       "cons     NaN  0.856  0.000  0.252    NaN  0.000  1.000    NaN  0.144      NaN   \n",
       "\n",
       "      ...   Pre_std  Pre_n_avg  Pre_n_std  Rec_avg  Rec_std  Rec_n_avg  \\\n",
       "chunk ...     0.118      0.112      0.052    0.118    0.112      0.118   \n",
       "chain ...     0.118      0.112      0.052    0.118    0.112      0.118   \n",
       "cons  ...     0.000      0.211        NaN    0.000    0.000        NaN   \n",
       "\n",
       "       Rec_n_std  AUC_PRC  AUC_ROC  Cov  \n",
       "chunk      0.112      NaN      NaN  NaN  \n",
       "chain      0.112      NaN      NaN  NaN  \n",
       "cons       0.164      NaN      NaN  1.0  \n",
       "\n",
       "[3 rows x 30 columns]"
      ]
     },
     "execution_count": 23,
     "metadata": {},
     "output_type": "execute_result"
    }
   ],
   "source": [
    "bchunk = pd.read_csv('/home/marnec/Projects/CAID/test/new-disprot-linker_chunk_scores.csv', index_col=[0]).mean().to_frame().transpose()\n",
    "bchain = pd.read_csv('/home/marnec/Projects/CAID/test/new-disprot-linker_chunk_scores.csv', index_col=[0]).mean().to_frame().transpose()\n",
    "bcons = pd.read_csv('/home/marnec/Projects/CAID/test/new-disprot-linker_cons_scores.csv', index_col=[0]).mean().to_frame().transpose()\n",
    "bs = pd.concat([bchunk, bchain, bcons], axis=0, sort=False)\n",
    "bs.index = ['chunk', 'chain', 'cons']\n",
    "bs.round(3)"
   ]
  },
  {
   "cell_type": "code",
   "execution_count": 24,
   "metadata": {},
   "outputs": [
    {
     "data": {
      "text/html": [
       "<div>\n",
       "<style scoped>\n",
       "    .dataframe tbody tr th:only-of-type {\n",
       "        vertical-align: middle;\n",
       "    }\n",
       "\n",
       "    .dataframe tbody tr th {\n",
       "        vertical-align: top;\n",
       "    }\n",
       "\n",
       "    .dataframe thead th {\n",
       "        text-align: right;\n",
       "    }\n",
       "</style>\n",
       "<table border=\"1\" class=\"dataframe\">\n",
       "  <thead>\n",
       "    <tr style=\"text-align: right;\">\n",
       "      <th></th>\n",
       "      <th>BAc</th>\n",
       "      <th>FPR</th>\n",
       "      <th>F1s</th>\n",
       "      <th>F1s_n</th>\n",
       "      <th>MCC</th>\n",
       "      <th>Pre</th>\n",
       "      <th>Pre_n</th>\n",
       "      <th>Rec</th>\n",
       "      <th>Rec_n</th>\n",
       "      <th>BAc_avg</th>\n",
       "      <th>...</th>\n",
       "      <th>Pre_std</th>\n",
       "      <th>Pre_n_avg</th>\n",
       "      <th>Pre_n_std</th>\n",
       "      <th>Rec_avg</th>\n",
       "      <th>Rec_std</th>\n",
       "      <th>Rec_n_avg</th>\n",
       "      <th>Rec_n_std</th>\n",
       "      <th>Cov</th>\n",
       "      <th>AUC_PRC</th>\n",
       "      <th>AUC_ROC</th>\n",
       "    </tr>\n",
       "  </thead>\n",
       "  <tbody>\n",
       "    <tr>\n",
       "      <th>D021_tosatto_mobidblite</th>\n",
       "      <td>0.738</td>\n",
       "      <td>0.364</td>\n",
       "      <td>0.292</td>\n",
       "      <td>0.770</td>\n",
       "      <td>0.270</td>\n",
       "      <td>0.177</td>\n",
       "      <td>0.977</td>\n",
       "      <td>0.839</td>\n",
       "      <td>0.636</td>\n",
       "      <td>0.723</td>\n",
       "      <td>...</td>\n",
       "      <td>0.247</td>\n",
       "      <td>0.159</td>\n",
       "      <td>0.239</td>\n",
       "      <td>0.238</td>\n",
       "      <td>0.043</td>\n",
       "      <td>0.271</td>\n",
       "      <td>0.204</td>\n",
       "      <td>1.0</td>\n",
       "      <td>NaN</td>\n",
       "      <td>NaN</td>\n",
       "    </tr>\n",
       "    <tr>\n",
       "      <th>D027_xu_aucpred_no_profile</th>\n",
       "      <td>0.727</td>\n",
       "      <td>0.344</td>\n",
       "      <td>0.271</td>\n",
       "      <td>0.784</td>\n",
       "      <td>0.250</td>\n",
       "      <td>0.163</td>\n",
       "      <td>0.975</td>\n",
       "      <td>0.799</td>\n",
       "      <td>0.656</td>\n",
       "      <td>0.681</td>\n",
       "      <td>...</td>\n",
       "      <td>0.246</td>\n",
       "      <td>0.179</td>\n",
       "      <td>0.245</td>\n",
       "      <td>0.208</td>\n",
       "      <td>0.058</td>\n",
       "      <td>0.349</td>\n",
       "      <td>0.209</td>\n",
       "      <td>1.0</td>\n",
       "      <td>NaN</td>\n",
       "      <td>NaN</td>\n",
       "    </tr>\n",
       "    <tr>\n",
       "      <th>D018_tosatto_espritzd</th>\n",
       "      <td>0.693</td>\n",
       "      <td>0.382</td>\n",
       "      <td>0.243</td>\n",
       "      <td>0.755</td>\n",
       "      <td>0.210</td>\n",
       "      <td>0.144</td>\n",
       "      <td>0.970</td>\n",
       "      <td>0.769</td>\n",
       "      <td>0.618</td>\n",
       "      <td>0.596</td>\n",
       "      <td>...</td>\n",
       "      <td>0.214</td>\n",
       "      <td>0.329</td>\n",
       "      <td>0.223</td>\n",
       "      <td>0.159</td>\n",
       "      <td>0.053</td>\n",
       "      <td>0.444</td>\n",
       "      <td>0.324</td>\n",
       "      <td>1.0</td>\n",
       "      <td>NaN</td>\n",
       "      <td>NaN</td>\n",
       "    </tr>\n",
       "    <tr>\n",
       "      <th>D004_dosztanyi_iupred2as</th>\n",
       "      <td>0.757</td>\n",
       "      <td>0.327</td>\n",
       "      <td>0.293</td>\n",
       "      <td>0.798</td>\n",
       "      <td>0.285</td>\n",
       "      <td>0.177</td>\n",
       "      <td>0.980</td>\n",
       "      <td>0.840</td>\n",
       "      <td>0.673</td>\n",
       "      <td>0.690</td>\n",
       "      <td>...</td>\n",
       "      <td>0.266</td>\n",
       "      <td>0.152</td>\n",
       "      <td>0.266</td>\n",
       "      <td>0.229</td>\n",
       "      <td>0.034</td>\n",
       "      <td>0.395</td>\n",
       "      <td>0.194</td>\n",
       "      <td>1.0</td>\n",
       "      <td>NaN</td>\n",
       "      <td>NaN</td>\n",
       "    </tr>\n",
       "    <tr>\n",
       "      <th>D008_galzitskaya_isunstruct</th>\n",
       "      <td>0.740</td>\n",
       "      <td>0.343</td>\n",
       "      <td>0.278</td>\n",
       "      <td>0.786</td>\n",
       "      <td>0.264</td>\n",
       "      <td>0.167</td>\n",
       "      <td>0.978</td>\n",
       "      <td>0.823</td>\n",
       "      <td>0.657</td>\n",
       "      <td>0.663</td>\n",
       "      <td>...</td>\n",
       "      <td>0.261</td>\n",
       "      <td>0.188</td>\n",
       "      <td>0.278</td>\n",
       "      <td>0.222</td>\n",
       "      <td>0.049</td>\n",
       "      <td>0.394</td>\n",
       "      <td>0.226</td>\n",
       "      <td>1.0</td>\n",
       "      <td>NaN</td>\n",
       "      <td>NaN</td>\n",
       "    </tr>\n",
       "    <tr>\n",
       "      <th>D002_cheng_predisorder</th>\n",
       "      <td>0.759</td>\n",
       "      <td>0.300</td>\n",
       "      <td>0.303</td>\n",
       "      <td>0.817</td>\n",
       "      <td>0.292</td>\n",
       "      <td>0.186</td>\n",
       "      <td>0.979</td>\n",
       "      <td>0.818</td>\n",
       "      <td>0.700</td>\n",
       "      <td>0.702</td>\n",
       "      <td>...</td>\n",
       "      <td>0.278</td>\n",
       "      <td>0.151</td>\n",
       "      <td>0.286</td>\n",
       "      <td>0.255</td>\n",
       "      <td>0.036</td>\n",
       "      <td>0.373</td>\n",
       "      <td>0.202</td>\n",
       "      <td>1.0</td>\n",
       "      <td>NaN</td>\n",
       "      <td>NaN</td>\n",
       "    </tr>\n",
       "    <tr>\n",
       "      <th>D009_gibson_globplot</th>\n",
       "      <td>0.654</td>\n",
       "      <td>0.544</td>\n",
       "      <td>0.204</td>\n",
       "      <td>0.622</td>\n",
       "      <td>0.166</td>\n",
       "      <td>0.116</td>\n",
       "      <td>0.973</td>\n",
       "      <td>0.851</td>\n",
       "      <td>0.456</td>\n",
       "      <td>0.659</td>\n",
       "      <td>...</td>\n",
       "      <td>0.219</td>\n",
       "      <td>0.167</td>\n",
       "      <td>0.186</td>\n",
       "      <td>0.192</td>\n",
       "      <td>0.051</td>\n",
       "      <td>0.275</td>\n",
       "      <td>0.193</td>\n",
       "      <td>1.0</td>\n",
       "      <td>NaN</td>\n",
       "      <td>NaN</td>\n",
       "    </tr>\n",
       "    <tr>\n",
       "      <th>D031_esnouf_jronn</th>\n",
       "      <td>0.741</td>\n",
       "      <td>0.340</td>\n",
       "      <td>0.280</td>\n",
       "      <td>0.788</td>\n",
       "      <td>0.265</td>\n",
       "      <td>0.168</td>\n",
       "      <td>0.978</td>\n",
       "      <td>0.822</td>\n",
       "      <td>0.660</td>\n",
       "      <td>0.675</td>\n",
       "      <td>...</td>\n",
       "      <td>0.270</td>\n",
       "      <td>0.170</td>\n",
       "      <td>0.276</td>\n",
       "      <td>0.258</td>\n",
       "      <td>0.045</td>\n",
       "      <td>0.398</td>\n",
       "      <td>0.216</td>\n",
       "      <td>1.0</td>\n",
       "      <td>NaN</td>\n",
       "      <td>NaN</td>\n",
       "    </tr>\n",
       "    <tr>\n",
       "      <th>D011_jones_disopred3_disorder</th>\n",
       "      <td>0.728</td>\n",
       "      <td>0.336</td>\n",
       "      <td>0.273</td>\n",
       "      <td>0.790</td>\n",
       "      <td>0.252</td>\n",
       "      <td>0.165</td>\n",
       "      <td>0.974</td>\n",
       "      <td>0.792</td>\n",
       "      <td>0.664</td>\n",
       "      <td>0.688</td>\n",
       "      <td>...</td>\n",
       "      <td>0.277</td>\n",
       "      <td>0.200</td>\n",
       "      <td>0.286</td>\n",
       "      <td>0.298</td>\n",
       "      <td>0.055</td>\n",
       "      <td>0.410</td>\n",
       "      <td>0.257</td>\n",
       "      <td>1.0</td>\n",
       "      <td>NaN</td>\n",
       "      <td>NaN</td>\n",
       "    </tr>\n",
       "    <tr>\n",
       "      <th>D017_russel_disembl_465</th>\n",
       "      <td>0.664</td>\n",
       "      <td>0.395</td>\n",
       "      <td>0.225</td>\n",
       "      <td>0.743</td>\n",
       "      <td>0.178</td>\n",
       "      <td>0.133</td>\n",
       "      <td>0.963</td>\n",
       "      <td>0.724</td>\n",
       "      <td>0.605</td>\n",
       "      <td>0.630</td>\n",
       "      <td>...</td>\n",
       "      <td>0.198</td>\n",
       "      <td>0.140</td>\n",
       "      <td>0.174</td>\n",
       "      <td>0.171</td>\n",
       "      <td>0.061</td>\n",
       "      <td>0.293</td>\n",
       "      <td>0.165</td>\n",
       "      <td>1.0</td>\n",
       "      <td>NaN</td>\n",
       "      <td>NaN</td>\n",
       "    </tr>\n",
       "    <tr>\n",
       "      <th>D001_callebaut_pyhca</th>\n",
       "      <td>0.687</td>\n",
       "      <td>0.386</td>\n",
       "      <td>0.239</td>\n",
       "      <td>0.752</td>\n",
       "      <td>0.203</td>\n",
       "      <td>0.142</td>\n",
       "      <td>0.968</td>\n",
       "      <td>0.759</td>\n",
       "      <td>0.614</td>\n",
       "      <td>0.633</td>\n",
       "      <td>...</td>\n",
       "      <td>0.224</td>\n",
       "      <td>0.221</td>\n",
       "      <td>0.198</td>\n",
       "      <td>0.185</td>\n",
       "      <td>0.042</td>\n",
       "      <td>0.369</td>\n",
       "      <td>0.250</td>\n",
       "      <td>1.0</td>\n",
       "      <td>NaN</td>\n",
       "      <td>NaN</td>\n",
       "    </tr>\n",
       "    <tr>\n",
       "      <th>D028_zhou_spot-disorder1</th>\n",
       "      <td>0.756</td>\n",
       "      <td>0.413</td>\n",
       "      <td>0.270</td>\n",
       "      <td>0.737</td>\n",
       "      <td>0.275</td>\n",
       "      <td>0.158</td>\n",
       "      <td>0.989</td>\n",
       "      <td>0.926</td>\n",
       "      <td>0.587</td>\n",
       "      <td>0.737</td>\n",
       "      <td>...</td>\n",
       "      <td>0.270</td>\n",
       "      <td>0.294</td>\n",
       "      <td>0.251</td>\n",
       "      <td>0.245</td>\n",
       "      <td>0.026</td>\n",
       "      <td>0.300</td>\n",
       "      <td>0.290</td>\n",
       "      <td>1.0</td>\n",
       "      <td>NaN</td>\n",
       "      <td>NaN</td>\n",
       "    </tr>\n",
       "    <tr>\n",
       "      <th>D020_tosatto_espritzx</th>\n",
       "      <td>0.755</td>\n",
       "      <td>0.355</td>\n",
       "      <td>0.284</td>\n",
       "      <td>0.779</td>\n",
       "      <td>0.279</td>\n",
       "      <td>0.170</td>\n",
       "      <td>0.983</td>\n",
       "      <td>0.865</td>\n",
       "      <td>0.645</td>\n",
       "      <td>0.672</td>\n",
       "      <td>...</td>\n",
       "      <td>0.225</td>\n",
       "      <td>0.158</td>\n",
       "      <td>0.232</td>\n",
       "      <td>0.176</td>\n",
       "      <td>0.059</td>\n",
       "      <td>0.365</td>\n",
       "      <td>0.187</td>\n",
       "      <td>1.0</td>\n",
       "      <td>NaN</td>\n",
       "      <td>NaN</td>\n",
       "    </tr>\n",
       "    <tr>\n",
       "      <th>D029_zhou_spot-disorder2</th>\n",
       "      <td>0.791</td>\n",
       "      <td>0.288</td>\n",
       "      <td>0.365</td>\n",
       "      <td>0.826</td>\n",
       "      <td>0.352</td>\n",
       "      <td>0.231</td>\n",
       "      <td>0.982</td>\n",
       "      <td>0.869</td>\n",
       "      <td>0.712</td>\n",
       "      <td>0.775</td>\n",
       "      <td>...</td>\n",
       "      <td>0.282</td>\n",
       "      <td>0.179</td>\n",
       "      <td>0.262</td>\n",
       "      <td>0.271</td>\n",
       "      <td>0.034</td>\n",
       "      <td>0.311</td>\n",
       "      <td>0.220</td>\n",
       "      <td>1.0</td>\n",
       "      <td>NaN</td>\n",
       "      <td>NaN</td>\n",
       "    </tr>\n",
       "    <tr>\n",
       "      <th>D006_dosztanyi_iupreds</th>\n",
       "      <td>0.758</td>\n",
       "      <td>0.337</td>\n",
       "      <td>0.291</td>\n",
       "      <td>0.791</td>\n",
       "      <td>0.285</td>\n",
       "      <td>0.175</td>\n",
       "      <td>0.982</td>\n",
       "      <td>0.854</td>\n",
       "      <td>0.663</td>\n",
       "      <td>0.695</td>\n",
       "      <td>...</td>\n",
       "      <td>0.261</td>\n",
       "      <td>0.153</td>\n",
       "      <td>0.260</td>\n",
       "      <td>0.225</td>\n",
       "      <td>0.033</td>\n",
       "      <td>0.384</td>\n",
       "      <td>0.193</td>\n",
       "      <td>1.0</td>\n",
       "      <td>NaN</td>\n",
       "      <td>NaN</td>\n",
       "    </tr>\n",
       "    <tr>\n",
       "      <th>D013_kurgan_fidp_log</th>\n",
       "      <td>0.676</td>\n",
       "      <td>0.249</td>\n",
       "      <td>0.220</td>\n",
       "      <td>0.846</td>\n",
       "      <td>0.189</td>\n",
       "      <td>0.134</td>\n",
       "      <td>0.967</td>\n",
       "      <td>0.601</td>\n",
       "      <td>0.751</td>\n",
       "      <td>0.630</td>\n",
       "      <td>...</td>\n",
       "      <td>0.188</td>\n",
       "      <td>0.197</td>\n",
       "      <td>0.203</td>\n",
       "      <td>0.136</td>\n",
       "      <td>0.069</td>\n",
       "      <td>0.491</td>\n",
       "      <td>0.264</td>\n",
       "      <td>1.0</td>\n",
       "      <td>NaN</td>\n",
       "      <td>NaN</td>\n",
       "    </tr>\n",
       "    <tr>\n",
       "      <th>D026_xu_aucpred</th>\n",
       "      <td>0.770</td>\n",
       "      <td>0.322</td>\n",
       "      <td>0.315</td>\n",
       "      <td>0.802</td>\n",
       "      <td>0.307</td>\n",
       "      <td>0.193</td>\n",
       "      <td>0.982</td>\n",
       "      <td>0.862</td>\n",
       "      <td>0.678</td>\n",
       "      <td>0.720</td>\n",
       "      <td>...</td>\n",
       "      <td>0.292</td>\n",
       "      <td>0.200</td>\n",
       "      <td>0.300</td>\n",
       "      <td>0.259</td>\n",
       "      <td>0.032</td>\n",
       "      <td>0.399</td>\n",
       "      <td>0.244</td>\n",
       "      <td>1.0</td>\n",
       "      <td>NaN</td>\n",
       "      <td>NaN</td>\n",
       "    </tr>\n",
       "    <tr>\n",
       "      <th>D022_vendruscolo_s2d1</th>\n",
       "      <td>0.712</td>\n",
       "      <td>0.350</td>\n",
       "      <td>0.260</td>\n",
       "      <td>0.779</td>\n",
       "      <td>0.233</td>\n",
       "      <td>0.156</td>\n",
       "      <td>0.972</td>\n",
       "      <td>0.775</td>\n",
       "      <td>0.650</td>\n",
       "      <td>0.661</td>\n",
       "      <td>...</td>\n",
       "      <td>0.277</td>\n",
       "      <td>0.199</td>\n",
       "      <td>0.274</td>\n",
       "      <td>0.253</td>\n",
       "      <td>0.046</td>\n",
       "      <td>0.382</td>\n",
       "      <td>0.239</td>\n",
       "      <td>1.0</td>\n",
       "      <td>NaN</td>\n",
       "      <td>NaN</td>\n",
       "    </tr>\n",
       "    <tr>\n",
       "      <th>D032_kurgan_dflpred</th>\n",
       "      <td>0.534</td>\n",
       "      <td>0.108</td>\n",
       "      <td>0.143</td>\n",
       "      <td>0.910</td>\n",
       "      <td>0.057</td>\n",
       "      <td>0.120</td>\n",
       "      <td>0.928</td>\n",
       "      <td>0.175</td>\n",
       "      <td>0.892</td>\n",
       "      <td>0.555</td>\n",
       "      <td>...</td>\n",
       "      <td>0.182</td>\n",
       "      <td>0.074</td>\n",
       "      <td>0.223</td>\n",
       "      <td>0.296</td>\n",
       "      <td>0.110</td>\n",
       "      <td>0.307</td>\n",
       "      <td>0.094</td>\n",
       "      <td>1.0</td>\n",
       "      <td>NaN</td>\n",
       "      <td>NaN</td>\n",
       "    </tr>\n",
       "    <tr>\n",
       "      <th>D030_zhou_spot-disorder-single</th>\n",
       "      <td>0.745</td>\n",
       "      <td>0.363</td>\n",
       "      <td>0.276</td>\n",
       "      <td>0.772</td>\n",
       "      <td>0.267</td>\n",
       "      <td>0.165</td>\n",
       "      <td>0.981</td>\n",
       "      <td>0.852</td>\n",
       "      <td>0.637</td>\n",
       "      <td>0.664</td>\n",
       "      <td>...</td>\n",
       "      <td>0.259</td>\n",
       "      <td>0.252</td>\n",
       "      <td>0.260</td>\n",
       "      <td>0.220</td>\n",
       "      <td>0.040</td>\n",
       "      <td>0.370</td>\n",
       "      <td>0.274</td>\n",
       "      <td>1.0</td>\n",
       "      <td>NaN</td>\n",
       "      <td>NaN</td>\n",
       "    </tr>\n",
       "    <tr>\n",
       "      <th>D010_hoque_dispred2</th>\n",
       "      <td>0.612</td>\n",
       "      <td>0.499</td>\n",
       "      <td>0.188</td>\n",
       "      <td>0.658</td>\n",
       "      <td>0.119</td>\n",
       "      <td>0.108</td>\n",
       "      <td>0.956</td>\n",
       "      <td>0.722</td>\n",
       "      <td>0.501</td>\n",
       "      <td>0.584</td>\n",
       "      <td>...</td>\n",
       "      <td>0.167</td>\n",
       "      <td>0.297</td>\n",
       "      <td>0.110</td>\n",
       "      <td>0.141</td>\n",
       "      <td>0.078</td>\n",
       "      <td>0.375</td>\n",
       "      <td>0.327</td>\n",
       "      <td>1.0</td>\n",
       "      <td>NaN</td>\n",
       "      <td>NaN</td>\n",
       "    </tr>\n",
       "    <tr>\n",
       "      <th>D024_vranken_disomine</th>\n",
       "      <td>0.646</td>\n",
       "      <td>0.498</td>\n",
       "      <td>0.215</td>\n",
       "      <td>0.660</td>\n",
       "      <td>0.160</td>\n",
       "      <td>0.124</td>\n",
       "      <td>0.964</td>\n",
       "      <td>0.790</td>\n",
       "      <td>0.502</td>\n",
       "      <td>0.595</td>\n",
       "      <td>...</td>\n",
       "      <td>0.187</td>\n",
       "      <td>0.321</td>\n",
       "      <td>0.166</td>\n",
       "      <td>0.151</td>\n",
       "      <td>0.067</td>\n",
       "      <td>0.358</td>\n",
       "      <td>0.316</td>\n",
       "      <td>1.0</td>\n",
       "      <td>NaN</td>\n",
       "      <td>NaN</td>\n",
       "    </tr>\n",
       "    <tr>\n",
       "      <th>D003_dosztanyi_iupred2al</th>\n",
       "      <td>0.755</td>\n",
       "      <td>0.336</td>\n",
       "      <td>0.289</td>\n",
       "      <td>0.792</td>\n",
       "      <td>0.281</td>\n",
       "      <td>0.174</td>\n",
       "      <td>0.981</td>\n",
       "      <td>0.846</td>\n",
       "      <td>0.664</td>\n",
       "      <td>0.693</td>\n",
       "      <td>...</td>\n",
       "      <td>0.261</td>\n",
       "      <td>0.185</td>\n",
       "      <td>0.239</td>\n",
       "      <td>0.222</td>\n",
       "      <td>0.031</td>\n",
       "      <td>0.359</td>\n",
       "      <td>0.230</td>\n",
       "      <td>1.0</td>\n",
       "      <td>NaN</td>\n",
       "      <td>NaN</td>\n",
       "    </tr>\n",
       "    <tr>\n",
       "      <th>D015_obradovic_vsl2</th>\n",
       "      <td>0.723</td>\n",
       "      <td>0.391</td>\n",
       "      <td>0.257</td>\n",
       "      <td>0.751</td>\n",
       "      <td>0.241</td>\n",
       "      <td>0.152</td>\n",
       "      <td>0.978</td>\n",
       "      <td>0.836</td>\n",
       "      <td>0.609</td>\n",
       "      <td>0.670</td>\n",
       "      <td>...</td>\n",
       "      <td>0.226</td>\n",
       "      <td>0.197</td>\n",
       "      <td>0.238</td>\n",
       "      <td>0.182</td>\n",
       "      <td>0.059</td>\n",
       "      <td>0.323</td>\n",
       "      <td>0.222</td>\n",
       "      <td>1.0</td>\n",
       "      <td>NaN</td>\n",
       "      <td>NaN</td>\n",
       "    </tr>\n",
       "    <tr>\n",
       "      <th>D016_russel_disembl_HL</th>\n",
       "      <td>0.629</td>\n",
       "      <td>0.530</td>\n",
       "      <td>0.195</td>\n",
       "      <td>0.632</td>\n",
       "      <td>0.139</td>\n",
       "      <td>0.111</td>\n",
       "      <td>0.964</td>\n",
       "      <td>0.789</td>\n",
       "      <td>0.470</td>\n",
       "      <td>0.621</td>\n",
       "      <td>...</td>\n",
       "      <td>0.163</td>\n",
       "      <td>0.121</td>\n",
       "      <td>0.144</td>\n",
       "      <td>0.134</td>\n",
       "      <td>0.097</td>\n",
       "      <td>0.228</td>\n",
       "      <td>0.126</td>\n",
       "      <td>1.0</td>\n",
       "      <td>NaN</td>\n",
       "      <td>NaN</td>\n",
       "    </tr>\n",
       "    <tr>\n",
       "      <th>D014_kurgan_fidp_nn</th>\n",
       "      <td>0.751</td>\n",
       "      <td>0.301</td>\n",
       "      <td>0.247</td>\n",
       "      <td>0.817</td>\n",
       "      <td>0.254</td>\n",
       "      <td>0.146</td>\n",
       "      <td>0.982</td>\n",
       "      <td>0.803</td>\n",
       "      <td>0.699</td>\n",
       "      <td>0.672</td>\n",
       "      <td>...</td>\n",
       "      <td>0.193</td>\n",
       "      <td>0.244</td>\n",
       "      <td>0.208</td>\n",
       "      <td>0.140</td>\n",
       "      <td>0.026</td>\n",
       "      <td>0.393</td>\n",
       "      <td>0.259</td>\n",
       "      <td>1.0</td>\n",
       "      <td>NaN</td>\n",
       "      <td>NaN</td>\n",
       "    </tr>\n",
       "    <tr>\n",
       "      <th>D023_vendruscolo_s2d2</th>\n",
       "      <td>0.694</td>\n",
       "      <td>0.407</td>\n",
       "      <td>0.239</td>\n",
       "      <td>0.736</td>\n",
       "      <td>0.209</td>\n",
       "      <td>0.141</td>\n",
       "      <td>0.972</td>\n",
       "      <td>0.795</td>\n",
       "      <td>0.593</td>\n",
       "      <td>0.659</td>\n",
       "      <td>...</td>\n",
       "      <td>0.247</td>\n",
       "      <td>0.166</td>\n",
       "      <td>0.232</td>\n",
       "      <td>0.224</td>\n",
       "      <td>0.042</td>\n",
       "      <td>0.321</td>\n",
       "      <td>0.201</td>\n",
       "      <td>1.0</td>\n",
       "      <td>NaN</td>\n",
       "      <td>NaN</td>\n",
       "    </tr>\n",
       "    <tr>\n",
       "      <th>D005_dosztanyi_iupredl</th>\n",
       "      <td>0.752</td>\n",
       "      <td>0.365</td>\n",
       "      <td>0.279</td>\n",
       "      <td>0.772</td>\n",
       "      <td>0.274</td>\n",
       "      <td>0.166</td>\n",
       "      <td>0.983</td>\n",
       "      <td>0.869</td>\n",
       "      <td>0.635</td>\n",
       "      <td>0.683</td>\n",
       "      <td>...</td>\n",
       "      <td>0.247</td>\n",
       "      <td>0.205</td>\n",
       "      <td>0.221</td>\n",
       "      <td>0.201</td>\n",
       "      <td>0.029</td>\n",
       "      <td>0.358</td>\n",
       "      <td>0.244</td>\n",
       "      <td>1.0</td>\n",
       "      <td>NaN</td>\n",
       "      <td>NaN</td>\n",
       "    </tr>\n",
       "    <tr>\n",
       "      <th>D019_tosatto_espritzn</th>\n",
       "      <td>0.729</td>\n",
       "      <td>0.250</td>\n",
       "      <td>0.302</td>\n",
       "      <td>0.845</td>\n",
       "      <td>0.271</td>\n",
       "      <td>0.192</td>\n",
       "      <td>0.968</td>\n",
       "      <td>0.707</td>\n",
       "      <td>0.750</td>\n",
       "      <td>0.683</td>\n",
       "      <td>...</td>\n",
       "      <td>0.275</td>\n",
       "      <td>0.115</td>\n",
       "      <td>0.273</td>\n",
       "      <td>0.268</td>\n",
       "      <td>0.062</td>\n",
       "      <td>0.427</td>\n",
       "      <td>0.178</td>\n",
       "      <td>1.0</td>\n",
       "      <td>NaN</td>\n",
       "      <td>NaN</td>\n",
       "    </tr>\n",
       "    <tr>\n",
       "      <th>chunk</th>\n",
       "      <td>0.566</td>\n",
       "      <td>0.067</td>\n",
       "      <td>0.198</td>\n",
       "      <td>0.933</td>\n",
       "      <td>0.131</td>\n",
       "      <td>0.198</td>\n",
       "      <td>0.933</td>\n",
       "      <td>0.198</td>\n",
       "      <td>0.933</td>\n",
       "      <td>0.500</td>\n",
       "      <td>...</td>\n",
       "      <td>0.118</td>\n",
       "      <td>0.112</td>\n",
       "      <td>0.052</td>\n",
       "      <td>0.118</td>\n",
       "      <td>0.112</td>\n",
       "      <td>0.118</td>\n",
       "      <td>0.112</td>\n",
       "      <td>NaN</td>\n",
       "      <td>NaN</td>\n",
       "      <td>NaN</td>\n",
       "    </tr>\n",
       "    <tr>\n",
       "      <th>chain</th>\n",
       "      <td>0.566</td>\n",
       "      <td>0.067</td>\n",
       "      <td>0.198</td>\n",
       "      <td>0.933</td>\n",
       "      <td>0.131</td>\n",
       "      <td>0.198</td>\n",
       "      <td>0.933</td>\n",
       "      <td>0.198</td>\n",
       "      <td>0.933</td>\n",
       "      <td>0.500</td>\n",
       "      <td>...</td>\n",
       "      <td>0.118</td>\n",
       "      <td>0.112</td>\n",
       "      <td>0.052</td>\n",
       "      <td>0.118</td>\n",
       "      <td>0.112</td>\n",
       "      <td>0.118</td>\n",
       "      <td>0.112</td>\n",
       "      <td>NaN</td>\n",
       "      <td>NaN</td>\n",
       "      <td>NaN</td>\n",
       "    </tr>\n",
       "    <tr>\n",
       "      <th>cons</th>\n",
       "      <td>NaN</td>\n",
       "      <td>0.856</td>\n",
       "      <td>0.000</td>\n",
       "      <td>0.252</td>\n",
       "      <td>NaN</td>\n",
       "      <td>0.000</td>\n",
       "      <td>1.000</td>\n",
       "      <td>NaN</td>\n",
       "      <td>0.144</td>\n",
       "      <td>NaN</td>\n",
       "      <td>...</td>\n",
       "      <td>0.000</td>\n",
       "      <td>0.211</td>\n",
       "      <td>NaN</td>\n",
       "      <td>0.000</td>\n",
       "      <td>0.000</td>\n",
       "      <td>NaN</td>\n",
       "      <td>0.164</td>\n",
       "      <td>1.0</td>\n",
       "      <td>NaN</td>\n",
       "      <td>NaN</td>\n",
       "    </tr>\n",
       "  </tbody>\n",
       "</table>\n",
       "<p>32 rows × 30 columns</p>\n",
       "</div>"
      ],
      "text/plain": [
       "                                  BAc    FPR    F1s  F1s_n    MCC    Pre  \\\n",
       "D021_tosatto_mobidblite         0.738  0.364  0.292  0.770  0.270  0.177   \n",
       "D027_xu_aucpred_no_profile      0.727  0.344  0.271  0.784  0.250  0.163   \n",
       "D018_tosatto_espritzd           0.693  0.382  0.243  0.755  0.210  0.144   \n",
       "D004_dosztanyi_iupred2as        0.757  0.327  0.293  0.798  0.285  0.177   \n",
       "D008_galzitskaya_isunstruct     0.740  0.343  0.278  0.786  0.264  0.167   \n",
       "D002_cheng_predisorder          0.759  0.300  0.303  0.817  0.292  0.186   \n",
       "D009_gibson_globplot            0.654  0.544  0.204  0.622  0.166  0.116   \n",
       "D031_esnouf_jronn               0.741  0.340  0.280  0.788  0.265  0.168   \n",
       "D011_jones_disopred3_disorder   0.728  0.336  0.273  0.790  0.252  0.165   \n",
       "D017_russel_disembl_465         0.664  0.395  0.225  0.743  0.178  0.133   \n",
       "D001_callebaut_pyhca            0.687  0.386  0.239  0.752  0.203  0.142   \n",
       "D028_zhou_spot-disorder1        0.756  0.413  0.270  0.737  0.275  0.158   \n",
       "D020_tosatto_espritzx           0.755  0.355  0.284  0.779  0.279  0.170   \n",
       "D029_zhou_spot-disorder2        0.791  0.288  0.365  0.826  0.352  0.231   \n",
       "D006_dosztanyi_iupreds          0.758  0.337  0.291  0.791  0.285  0.175   \n",
       "D013_kurgan_fidp_log            0.676  0.249  0.220  0.846  0.189  0.134   \n",
       "D026_xu_aucpred                 0.770  0.322  0.315  0.802  0.307  0.193   \n",
       "D022_vendruscolo_s2d1           0.712  0.350  0.260  0.779  0.233  0.156   \n",
       "D032_kurgan_dflpred             0.534  0.108  0.143  0.910  0.057  0.120   \n",
       "D030_zhou_spot-disorder-single  0.745  0.363  0.276  0.772  0.267  0.165   \n",
       "D010_hoque_dispred2             0.612  0.499  0.188  0.658  0.119  0.108   \n",
       "D024_vranken_disomine           0.646  0.498  0.215  0.660  0.160  0.124   \n",
       "D003_dosztanyi_iupred2al        0.755  0.336  0.289  0.792  0.281  0.174   \n",
       "D015_obradovic_vsl2             0.723  0.391  0.257  0.751  0.241  0.152   \n",
       "D016_russel_disembl_HL          0.629  0.530  0.195  0.632  0.139  0.111   \n",
       "D014_kurgan_fidp_nn             0.751  0.301  0.247  0.817  0.254  0.146   \n",
       "D023_vendruscolo_s2d2           0.694  0.407  0.239  0.736  0.209  0.141   \n",
       "D005_dosztanyi_iupredl          0.752  0.365  0.279  0.772  0.274  0.166   \n",
       "D019_tosatto_espritzn           0.729  0.250  0.302  0.845  0.271  0.192   \n",
       "chunk                           0.566  0.067  0.198  0.933  0.131  0.198   \n",
       "chain                           0.566  0.067  0.198  0.933  0.131  0.198   \n",
       "cons                              NaN  0.856  0.000  0.252    NaN  0.000   \n",
       "\n",
       "                                Pre_n    Rec  Rec_n  BAc_avg   ...     \\\n",
       "D021_tosatto_mobidblite         0.977  0.839  0.636    0.723   ...      \n",
       "D027_xu_aucpred_no_profile      0.975  0.799  0.656    0.681   ...      \n",
       "D018_tosatto_espritzd           0.970  0.769  0.618    0.596   ...      \n",
       "D004_dosztanyi_iupred2as        0.980  0.840  0.673    0.690   ...      \n",
       "D008_galzitskaya_isunstruct     0.978  0.823  0.657    0.663   ...      \n",
       "D002_cheng_predisorder          0.979  0.818  0.700    0.702   ...      \n",
       "D009_gibson_globplot            0.973  0.851  0.456    0.659   ...      \n",
       "D031_esnouf_jronn               0.978  0.822  0.660    0.675   ...      \n",
       "D011_jones_disopred3_disorder   0.974  0.792  0.664    0.688   ...      \n",
       "D017_russel_disembl_465         0.963  0.724  0.605    0.630   ...      \n",
       "D001_callebaut_pyhca            0.968  0.759  0.614    0.633   ...      \n",
       "D028_zhou_spot-disorder1        0.989  0.926  0.587    0.737   ...      \n",
       "D020_tosatto_espritzx           0.983  0.865  0.645    0.672   ...      \n",
       "D029_zhou_spot-disorder2        0.982  0.869  0.712    0.775   ...      \n",
       "D006_dosztanyi_iupreds          0.982  0.854  0.663    0.695   ...      \n",
       "D013_kurgan_fidp_log            0.967  0.601  0.751    0.630   ...      \n",
       "D026_xu_aucpred                 0.982  0.862  0.678    0.720   ...      \n",
       "D022_vendruscolo_s2d1           0.972  0.775  0.650    0.661   ...      \n",
       "D032_kurgan_dflpred             0.928  0.175  0.892    0.555   ...      \n",
       "D030_zhou_spot-disorder-single  0.981  0.852  0.637    0.664   ...      \n",
       "D010_hoque_dispred2             0.956  0.722  0.501    0.584   ...      \n",
       "D024_vranken_disomine           0.964  0.790  0.502    0.595   ...      \n",
       "D003_dosztanyi_iupred2al        0.981  0.846  0.664    0.693   ...      \n",
       "D015_obradovic_vsl2             0.978  0.836  0.609    0.670   ...      \n",
       "D016_russel_disembl_HL          0.964  0.789  0.470    0.621   ...      \n",
       "D014_kurgan_fidp_nn             0.982  0.803  0.699    0.672   ...      \n",
       "D023_vendruscolo_s2d2           0.972  0.795  0.593    0.659   ...      \n",
       "D005_dosztanyi_iupredl          0.983  0.869  0.635    0.683   ...      \n",
       "D019_tosatto_espritzn           0.968  0.707  0.750    0.683   ...      \n",
       "chunk                           0.933  0.198  0.933    0.500   ...      \n",
       "chain                           0.933  0.198  0.933    0.500   ...      \n",
       "cons                            1.000    NaN  0.144      NaN   ...      \n",
       "\n",
       "                                Pre_std  Pre_n_avg  Pre_n_std  Rec_avg  \\\n",
       "D021_tosatto_mobidblite           0.247      0.159      0.239    0.238   \n",
       "D027_xu_aucpred_no_profile        0.246      0.179      0.245    0.208   \n",
       "D018_tosatto_espritzd             0.214      0.329      0.223    0.159   \n",
       "D004_dosztanyi_iupred2as          0.266      0.152      0.266    0.229   \n",
       "D008_galzitskaya_isunstruct       0.261      0.188      0.278    0.222   \n",
       "D002_cheng_predisorder            0.278      0.151      0.286    0.255   \n",
       "D009_gibson_globplot              0.219      0.167      0.186    0.192   \n",
       "D031_esnouf_jronn                 0.270      0.170      0.276    0.258   \n",
       "D011_jones_disopred3_disorder     0.277      0.200      0.286    0.298   \n",
       "D017_russel_disembl_465           0.198      0.140      0.174    0.171   \n",
       "D001_callebaut_pyhca              0.224      0.221      0.198    0.185   \n",
       "D028_zhou_spot-disorder1          0.270      0.294      0.251    0.245   \n",
       "D020_tosatto_espritzx             0.225      0.158      0.232    0.176   \n",
       "D029_zhou_spot-disorder2          0.282      0.179      0.262    0.271   \n",
       "D006_dosztanyi_iupreds            0.261      0.153      0.260    0.225   \n",
       "D013_kurgan_fidp_log              0.188      0.197      0.203    0.136   \n",
       "D026_xu_aucpred                   0.292      0.200      0.300    0.259   \n",
       "D022_vendruscolo_s2d1             0.277      0.199      0.274    0.253   \n",
       "D032_kurgan_dflpred               0.182      0.074      0.223    0.296   \n",
       "D030_zhou_spot-disorder-single    0.259      0.252      0.260    0.220   \n",
       "D010_hoque_dispred2               0.167      0.297      0.110    0.141   \n",
       "D024_vranken_disomine             0.187      0.321      0.166    0.151   \n",
       "D003_dosztanyi_iupred2al          0.261      0.185      0.239    0.222   \n",
       "D015_obradovic_vsl2               0.226      0.197      0.238    0.182   \n",
       "D016_russel_disembl_HL            0.163      0.121      0.144    0.134   \n",
       "D014_kurgan_fidp_nn               0.193      0.244      0.208    0.140   \n",
       "D023_vendruscolo_s2d2             0.247      0.166      0.232    0.224   \n",
       "D005_dosztanyi_iupredl            0.247      0.205      0.221    0.201   \n",
       "D019_tosatto_espritzn             0.275      0.115      0.273    0.268   \n",
       "chunk                             0.118      0.112      0.052    0.118   \n",
       "chain                             0.118      0.112      0.052    0.118   \n",
       "cons                              0.000      0.211        NaN    0.000   \n",
       "\n",
       "                                Rec_std  Rec_n_avg  Rec_n_std  Cov  AUC_PRC  \\\n",
       "D021_tosatto_mobidblite           0.043      0.271      0.204  1.0      NaN   \n",
       "D027_xu_aucpred_no_profile        0.058      0.349      0.209  1.0      NaN   \n",
       "D018_tosatto_espritzd             0.053      0.444      0.324  1.0      NaN   \n",
       "D004_dosztanyi_iupred2as          0.034      0.395      0.194  1.0      NaN   \n",
       "D008_galzitskaya_isunstruct       0.049      0.394      0.226  1.0      NaN   \n",
       "D002_cheng_predisorder            0.036      0.373      0.202  1.0      NaN   \n",
       "D009_gibson_globplot              0.051      0.275      0.193  1.0      NaN   \n",
       "D031_esnouf_jronn                 0.045      0.398      0.216  1.0      NaN   \n",
       "D011_jones_disopred3_disorder     0.055      0.410      0.257  1.0      NaN   \n",
       "D017_russel_disembl_465           0.061      0.293      0.165  1.0      NaN   \n",
       "D001_callebaut_pyhca              0.042      0.369      0.250  1.0      NaN   \n",
       "D028_zhou_spot-disorder1          0.026      0.300      0.290  1.0      NaN   \n",
       "D020_tosatto_espritzx             0.059      0.365      0.187  1.0      NaN   \n",
       "D029_zhou_spot-disorder2          0.034      0.311      0.220  1.0      NaN   \n",
       "D006_dosztanyi_iupreds            0.033      0.384      0.193  1.0      NaN   \n",
       "D013_kurgan_fidp_log              0.069      0.491      0.264  1.0      NaN   \n",
       "D026_xu_aucpred                   0.032      0.399      0.244  1.0      NaN   \n",
       "D022_vendruscolo_s2d1             0.046      0.382      0.239  1.0      NaN   \n",
       "D032_kurgan_dflpred               0.110      0.307      0.094  1.0      NaN   \n",
       "D030_zhou_spot-disorder-single    0.040      0.370      0.274  1.0      NaN   \n",
       "D010_hoque_dispred2               0.078      0.375      0.327  1.0      NaN   \n",
       "D024_vranken_disomine             0.067      0.358      0.316  1.0      NaN   \n",
       "D003_dosztanyi_iupred2al          0.031      0.359      0.230  1.0      NaN   \n",
       "D015_obradovic_vsl2               0.059      0.323      0.222  1.0      NaN   \n",
       "D016_russel_disembl_HL            0.097      0.228      0.126  1.0      NaN   \n",
       "D014_kurgan_fidp_nn               0.026      0.393      0.259  1.0      NaN   \n",
       "D023_vendruscolo_s2d2             0.042      0.321      0.201  1.0      NaN   \n",
       "D005_dosztanyi_iupredl            0.029      0.358      0.244  1.0      NaN   \n",
       "D019_tosatto_espritzn             0.062      0.427      0.178  1.0      NaN   \n",
       "chunk                             0.112      0.118      0.112  NaN      NaN   \n",
       "chain                             0.112      0.118      0.112  NaN      NaN   \n",
       "cons                              0.000        NaN      0.164  1.0      NaN   \n",
       "\n",
       "                                AUC_ROC  \n",
       "D021_tosatto_mobidblite             NaN  \n",
       "D027_xu_aucpred_no_profile          NaN  \n",
       "D018_tosatto_espritzd               NaN  \n",
       "D004_dosztanyi_iupred2as            NaN  \n",
       "D008_galzitskaya_isunstruct         NaN  \n",
       "D002_cheng_predisorder              NaN  \n",
       "D009_gibson_globplot                NaN  \n",
       "D031_esnouf_jronn                   NaN  \n",
       "D011_jones_disopred3_disorder       NaN  \n",
       "D017_russel_disembl_465             NaN  \n",
       "D001_callebaut_pyhca                NaN  \n",
       "D028_zhou_spot-disorder1            NaN  \n",
       "D020_tosatto_espritzx               NaN  \n",
       "D029_zhou_spot-disorder2            NaN  \n",
       "D006_dosztanyi_iupreds              NaN  \n",
       "D013_kurgan_fidp_log                NaN  \n",
       "D026_xu_aucpred                     NaN  \n",
       "D022_vendruscolo_s2d1               NaN  \n",
       "D032_kurgan_dflpred                 NaN  \n",
       "D030_zhou_spot-disorder-single      NaN  \n",
       "D010_hoque_dispred2                 NaN  \n",
       "D024_vranken_disomine               NaN  \n",
       "D003_dosztanyi_iupred2al            NaN  \n",
       "D015_obradovic_vsl2                 NaN  \n",
       "D016_russel_disembl_HL              NaN  \n",
       "D014_kurgan_fidp_nn                 NaN  \n",
       "D023_vendruscolo_s2d2               NaN  \n",
       "D005_dosztanyi_iupredl              NaN  \n",
       "D019_tosatto_espritzn               NaN  \n",
       "chunk                               NaN  \n",
       "chain                               NaN  \n",
       "cons                                NaN  \n",
       "\n",
       "[32 rows x 30 columns]"
      ]
     },
     "execution_count": 24,
     "metadata": {},
     "output_type": "execute_result"
    }
   ],
   "source": [
    "df = pd.read_csv('/home/marnec/Projects/CAID/test/new-disprot-linker_simple_redefScores.csv', index_col=[0])\n",
    "df = df.append(bs, sort=False).round(3)\n",
    "df"
   ]
  },
  {
   "cell_type": "code",
   "execution_count": 25,
   "metadata": {},
   "outputs": [
    {
     "data": {
      "image/png": "[encoded data removed]",
      "text/plain": [
       "<Figure size 432x288 with 1 Axes>"
      ]
     },
     "metadata": {
      "needs_background": "light"
     },
     "output_type": "display_data"
    }
   ],
   "source": [
    "ax = df['BAc'].hist(bins=20, edgecolor='w')\n",
    "ax.set_xlabel('bal acc')\n",
    "ax.set_ylabel('frequency');"
   ]
  },
  {
   "cell_type": "code",
   "execution_count": 26,
   "metadata": {},
   "outputs": [
    {
     "data": {
      "image/png": "[encoded data removed]",
      "text/plain": [
       "<Figure size 720x720 with 3 Axes>"
      ]
     },
     "metadata": {
      "needs_background": "light"
     },
     "output_type": "display_data"
    }
   ],
   "source": [
    "pi = pd.read_csv('/home/marnec/Projects/CAID/test/new-disprot-linker_simple_perInstanceScores.csv', header=[0], index_col=[0, 1])\n",
    "piba = pi.xs('bal_acc', level=1).reindex(pi.mean().sort_values().index, axis=1)\n",
    "fix, ax = plt.subplots(figsize=(10, 10))\n",
    "ax = sns.heatmap(piba, cmap='Blues', ax=ax)\n",
    "ax.axes.get_yaxis().get_label().set_visible(False)\n",
    "ax.set_facecolor('xkcd:salmon')\n",
    "\n",
    "ax2 = ax.twiny()\n",
    "ax2tick_location = ax.xaxis.get_ticklocs() #Get the tick locations in data coordinates as a numpy array\n",
    "ax2.set_xticks(ax2tick_location)\n",
    "ax2.set_xticklabels(piba.mean().round(2));\n",
    "ax2.tick_params(axis='x', rotation=90)"
   ]
  },
  {
   "cell_type": "code",
   "execution_count": 92,
   "metadata": {},
   "outputs": [
    {
     "data": {
      "text/html": [
       "<div>\n",
       "<style scoped>\n",
       "    .dataframe tbody tr th:only-of-type {\n",
       "        vertical-align: middle;\n",
       "    }\n",
       "\n",
       "    .dataframe tbody tr th {\n",
       "        vertical-align: top;\n",
       "    }\n",
       "\n",
       "    .dataframe thead th {\n",
       "        text-align: right;\n",
       "    }\n",
       "</style>\n",
       "<table border=\"1\" class=\"dataframe\">\n",
       "  <thead>\n",
       "    <tr style=\"text-align: right;\">\n",
       "      <th></th>\n",
       "      <th>method</th>\n",
       "      <th>target</th>\n",
       "      <th>accuracy</th>\n",
       "    </tr>\n",
       "  </thead>\n",
       "  <tbody>\n",
       "    <tr>\n",
       "      <th>0</th>\n",
       "      <td>D021_tosatto_mobidblite</td>\n",
       "      <td>DP01494</td>\n",
       "      <td>0.341</td>\n",
       "    </tr>\n",
       "    <tr>\n",
       "      <th>1</th>\n",
       "      <td>D027_xu_aucpred_no_profile</td>\n",
       "      <td>DP01494</td>\n",
       "      <td>0.240</td>\n",
       "    </tr>\n",
       "    <tr>\n",
       "      <th>2</th>\n",
       "      <td>D018_tosatto_espritzd</td>\n",
       "      <td>DP01494</td>\n",
       "      <td>0.463</td>\n",
       "    </tr>\n",
       "    <tr>\n",
       "      <th>3</th>\n",
       "      <td>D004_dosztanyi_iupred2as</td>\n",
       "      <td>DP01494</td>\n",
       "      <td>0.196</td>\n",
       "    </tr>\n",
       "    <tr>\n",
       "      <th>4</th>\n",
       "      <td>D008_galzitskaya_isunstruct</td>\n",
       "      <td>DP01494</td>\n",
       "      <td>0.091</td>\n",
       "    </tr>\n",
       "  </tbody>\n",
       "</table>\n",
       "</div>"
      ],
      "text/plain": [
       "                        method   target  accuracy\n",
       "0      D021_tosatto_mobidblite  DP01494     0.341\n",
       "1   D027_xu_aucpred_no_profile  DP01494     0.240\n",
       "2        D018_tosatto_espritzd  DP01494     0.463\n",
       "3     D004_dosztanyi_iupred2as  DP01494     0.196\n",
       "4  D008_galzitskaya_isunstruct  DP01494     0.091"
      ]
     },
     "execution_count": 92,
     "metadata": {},
     "output_type": "execute_result"
    }
   ],
   "source": [
    "pibaf = piba.reset_index().melt(id_vars=['0'])\n",
    "pibaf.columns = ['method', 'target', 'accuracy']\n",
    "pibaf.head()"
   ]
  },
  {
   "cell_type": "code",
   "execution_count": 117,
   "metadata": {},
   "outputs": [
    {
     "data": {
      "application/vnd.vegalite.v2+json": {
       "$schema": "https://vega.github.io/schema/vega-lite/v2.6.0.json",
       "config": {
        "view": {
         "height": 300,
         "width": 400
        }
       },
       "data": {
        "name": "data-ef9b3ff18e77ebe0be8eea19952fc459"
       },
       "datasets": {
        "data-ef9b3ff18e77ebe0be8eea19952fc459": [
         {
          "accuracy": 0.341,
          "method": "D021_tosatto_mobidblite",
          "target": "DP01494"
         },
         {
          "accuracy": 0.24,
          "method": "D027_xu_aucpred_no_profile",
          "target": "DP01494"
         },
         {
          "accuracy": 0.46299999999999997,
          "method": "D018_tosatto_espritzd",
          "target": "DP01494"
         },
         {
          "accuracy": 0.196,
          "method": "D004_dosztanyi_iupred2as",
          "target": "DP01494"
         },
         {
          "accuracy": 0.091,
          "method": "D008_galzitskaya_isunstruct",
          "target": "DP01494"
         },
         {
          "accuracy": 0.265,
          "method": "D002_cheng_predisorder",
          "target": "DP01494"
         },
         {
          "accuracy": 0.354,
          "method": "D009_gibson_globplot",
          "target": "DP01494"
         },
         {
          "accuracy": 0.10099999999999999,
          "method": "D031_esnouf_jronn",
          "target": "DP01494"
         },
         {
          "accuracy": 0.16,
          "method": "D011_jones_disopred3_disorder",
          "target": "DP01494"
         },
         {
          "accuracy": 0.342,
          "method": "D017_russel_disembl_465",
          "target": "DP01494"
         },
         {
          "accuracy": 0.263,
          "method": "D001_callebaut_pyhca",
          "target": "DP01494"
         },
         {
          "accuracy": 0.5,
          "method": "D007_galzitskaya_foldunfold",
          "target": "DP01494"
         },
         {
          "accuracy": 0.5,
          "method": "D028_zhou_spot-disorder1",
          "target": "DP01494"
         },
         {
          "accuracy": 0.41600000000000004,
          "method": "D020_tosatto_espritzx",
          "target": "DP01494"
         },
         {
          "accuracy": null,
          "method": "D029_zhou_spot-disorder2",
          "target": "DP01494"
         },
         {
          "accuracy": 0.195,
          "method": "D006_dosztanyi_iupreds",
          "target": "DP01494"
         },
         {
          "accuracy": 0.48700000000000004,
          "method": "D013_kurgan_fidp_log",
          "target": "DP01494"
         },
         {
          "accuracy": 0.151,
          "method": "D026_xu_aucpred",
          "target": "DP01494"
         },
         {
          "accuracy": 0.488,
          "method": "D022_vendruscolo_s2d1",
          "target": "DP01494"
         },
         {
          "accuracy": 0.496,
          "method": "D032_kurgan_dflpred",
          "target": "DP01494"
         },
         {
          "accuracy": 0.24,
          "method": "D030_zhou_spot-disorder-single",
          "target": "DP01494"
         },
         {
          "accuracy": 0.585,
          "method": "D010_hoque_dispred2",
          "target": "DP01494"
         },
         {
          "accuracy": 0.6609999999999999,
          "method": "D024_vranken_disomine",
          "target": "DP01494"
         },
         {
          "accuracy": 0.226,
          "method": "D003_dosztanyi_iupred2al",
          "target": "DP01494"
         },
         {
          "accuracy": 0.042,
          "method": "D015_obradovic_vsl2",
          "target": "DP01494"
         },
         {
          "accuracy": 0.24100000000000002,
          "method": "D025_wallner_rawmsa",
          "target": "DP01494"
         },
         {
          "accuracy": 0.622,
          "method": "D016_russel_disembl_HL",
          "target": "DP01494"
         },
         {
          "accuracy": 0.5,
          "method": "D014_kurgan_fidp_nn",
          "target": "DP01494"
         },
         {
          "accuracy": 0.456,
          "method": "D023_vendruscolo_s2d2",
          "target": "DP01494"
         },
         {
          "accuracy": 0.271,
          "method": "D005_dosztanyi_iupredl",
          "target": "DP01494"
         },
         {
          "accuracy": 0.213,
          "method": "D019_tosatto_espritzn",
          "target": "DP01494"
         },
         {
          "accuracy": null,
          "method": "D021_tosatto_mobidblite",
          "target": "DP01996"
         },
         {
          "accuracy": 0.478,
          "method": "D027_xu_aucpred_no_profile",
          "target": "DP01996"
         },
         {
          "accuracy": 0.5,
          "method": "D018_tosatto_espritzd",
          "target": "DP01996"
         },
         {
          "accuracy": 0.49200000000000005,
          "method": "D004_dosztanyi_iupred2as",
          "target": "DP01996"
         },
         {
          "accuracy": 0.47,
          "method": "D008_galzitskaya_isunstruct",
          "target": "DP01996"
         },
         {
          "accuracy": 0.6920000000000001,
          "method": "D002_cheng_predisorder",
          "target": "DP01996"
         },
         {
          "accuracy": 0.43799999999999994,
          "method": "D009_gibson_globplot",
          "target": "DP01996"
         },
         {
          "accuracy": 0.428,
          "method": "D031_esnouf_jronn",
          "target": "DP01996"
         },
         {
          "accuracy": 0.53,
          "method": "D011_jones_disopred3_disorder",
          "target": "DP01996"
         },
         {
          "accuracy": 0.46799999999999997,
          "method": "D017_russel_disembl_465",
          "target": "DP01996"
         },
         {
          "accuracy": 0.475,
          "method": "D001_callebaut_pyhca",
          "target": "DP01996"
         },
         {
          "accuracy": 0.5,
          "method": "D007_galzitskaya_foldunfold",
          "target": "DP01996"
         },
         {
          "accuracy": 0.48,
          "method": "D028_zhou_spot-disorder1",
          "target": "DP01996"
         },
         {
          "accuracy": 0.499,
          "method": "D020_tosatto_espritzx",
          "target": "DP01996"
         },
         {
          "accuracy": 0.5710000000000001,
          "method": "D029_zhou_spot-disorder2",
          "target": "DP01996"
         },
         {
          "accuracy": 0.491,
          "method": "D006_dosztanyi_iupreds",
          "target": "DP01996"
         },
         {
          "accuracy": 0.5,
          "method": "D013_kurgan_fidp_log",
          "target": "DP01996"
         },
         {
          "accuracy": 0.466,
          "method": "D026_xu_aucpred",
          "target": "DP01996"
         },
         {
          "accuracy": 0.536,
          "method": "D022_vendruscolo_s2d1",
          "target": "DP01996"
         },
         {
          "accuracy": 0.456,
          "method": "D032_kurgan_dflpred",
          "target": "DP01996"
         },
         {
          "accuracy": 0.496,
          "method": "D030_zhou_spot-disorder-single",
          "target": "DP01996"
         },
         {
          "accuracy": 0.496,
          "method": "D010_hoque_dispred2",
          "target": "DP01996"
         },
         {
          "accuracy": 0.5,
          "method": "D024_vranken_disomine",
          "target": "DP01996"
         },
         {
          "accuracy": 0.496,
          "method": "D003_dosztanyi_iupred2al",
          "target": "DP01996"
         },
         {
          "accuracy": 0.665,
          "method": "D015_obradovic_vsl2",
          "target": "DP01996"
         },
         {
          "accuracy": 0.674,
          "method": "D025_wallner_rawmsa",
          "target": "DP01996"
         },
         {
          "accuracy": 0.575,
          "method": "D016_russel_disembl_HL",
          "target": "DP01996"
         },
         {
          "accuracy": 0.5,
          "method": "D014_kurgan_fidp_nn",
          "target": "DP01996"
         },
         {
          "accuracy": 0.455,
          "method": "D023_vendruscolo_s2d2",
          "target": "DP01996"
         },
         {
          "accuracy": 0.493,
          "method": "D005_dosztanyi_iupredl",
          "target": "DP01996"
         },
         {
          "accuracy": 0.475,
          "method": "D019_tosatto_espritzn",
          "target": "DP01996"
         },
         {
          "accuracy": null,
          "method": "D021_tosatto_mobidblite",
          "target": "DP02144"
         },
         {
          "accuracy": 0.479,
          "method": "D027_xu_aucpred_no_profile",
          "target": "DP02144"
         },
         {
          "accuracy": 0.5,
          "method": "D018_tosatto_espritzd",
          "target": "DP02144"
         },
         {
          "accuracy": 0.475,
          "method": "D004_dosztanyi_iupred2as",
          "target": "DP02144"
         },
         {
          "accuracy": 0.469,
          "method": "D008_galzitskaya_isunstruct",
          "target": "DP02144"
         },
         {
          "accuracy": 0.922,
          "method": "D002_cheng_predisorder",
          "target": "DP02144"
         },
         {
          "accuracy": 0.48100000000000004,
          "method": "D009_gibson_globplot",
          "target": "DP02144"
         },
         {
          "accuracy": 0.523,
          "method": "D031_esnouf_jronn",
          "target": "DP02144"
         },
         {
          "accuracy": 0.47600000000000003,
          "method": "D011_jones_disopred3_disorder",
          "target": "DP02144"
         },
         {
          "accuracy": 0.48,
          "method": "D017_russel_disembl_465",
          "target": "DP02144"
         },
         {
          "accuracy": 0.47600000000000003,
          "method": "D001_callebaut_pyhca",
          "target": "DP02144"
         },
         {
          "accuracy": 0.5,
          "method": "D007_galzitskaya_foldunfold",
          "target": "DP02144"
         },
         {
          "accuracy": 0.48100000000000004,
          "method": "D028_zhou_spot-disorder1",
          "target": "DP02144"
         },
         {
          "accuracy": 0.499,
          "method": "D020_tosatto_espritzx",
          "target": "DP02144"
         },
         {
          "accuracy": null,
          "method": "D029_zhou_spot-disorder2",
          "target": "DP02144"
         },
         {
          "accuracy": 0.474,
          "method": "D006_dosztanyi_iupreds",
          "target": "DP02144"
         },
         {
          "accuracy": 0.5,
          "method": "D013_kurgan_fidp_log",
          "target": "DP02144"
         },
         {
          "accuracy": 0.47600000000000003,
          "method": "D026_xu_aucpred",
          "target": "DP02144"
         },
         {
          "accuracy": 0.47,
          "method": "D022_vendruscolo_s2d1",
          "target": "DP02144"
         },
         {
          "accuracy": 0.466,
          "method": "D032_kurgan_dflpred",
          "target": "DP02144"
         },
         {
          "accuracy": 0.493,
          "method": "D030_zhou_spot-disorder-single",
          "target": "DP02144"
         },
         {
          "accuracy": 0.5,
          "method": "D010_hoque_dispred2",
          "target": "DP02144"
         },
         {
          "accuracy": 0.5,
          "method": "D024_vranken_disomine",
          "target": "DP02144"
         },
         {
          "accuracy": 0.48,
          "method": "D003_dosztanyi_iupred2al",
          "target": "DP02144"
         },
         {
          "accuracy": 0.672,
          "method": "D015_obradovic_vsl2",
          "target": "DP02144"
         },
         {
          "accuracy": 0.5,
          "method": "D025_wallner_rawmsa",
          "target": "DP02144"
         },
         {
          "accuracy": 0.6729999999999999,
          "method": "D016_russel_disembl_HL",
          "target": "DP02144"
         },
         {
          "accuracy": 0.5,
          "method": "D014_kurgan_fidp_nn",
          "target": "DP02144"
         },
         {
          "accuracy": 0.431,
          "method": "D023_vendruscolo_s2d2",
          "target": "DP02144"
         },
         {
          "accuracy": 0.48100000000000004,
          "method": "D005_dosztanyi_iupredl",
          "target": "DP02144"
         },
         {
          "accuracy": 0.494,
          "method": "D019_tosatto_espritzn",
          "target": "DP02144"
         },
         {
          "accuracy": 0.48700000000000004,
          "method": "D021_tosatto_mobidblite",
          "target": "DP01396"
         },
         {
          "accuracy": 0.451,
          "method": "D027_xu_aucpred_no_profile",
          "target": "DP01396"
         },
         {
          "accuracy": 0.5,
          "method": "D018_tosatto_espritzd",
          "target": "DP01396"
         },
         {
          "accuracy": 0.47,
          "method": "D004_dosztanyi_iupred2as",
          "target": "DP01396"
         },
         {
          "accuracy": 0.439,
          "method": "D008_galzitskaya_isunstruct",
          "target": "DP01396"
         },
         {
          "accuracy": 0.711,
          "method": "D002_cheng_predisorder",
          "target": "DP01396"
         },
         {
          "accuracy": 0.855,
          "method": "D009_gibson_globplot",
          "target": "DP01396"
         },
         {
          "accuracy": 0.721,
          "method": "D031_esnouf_jronn",
          "target": "DP01396"
         },
         {
          "accuracy": 0.419,
          "method": "D011_jones_disopred3_disorder",
          "target": "DP01396"
         },
         {
          "accuracy": 0.593,
          "method": "D017_russel_disembl_465",
          "target": "DP01396"
         },
         {
          "accuracy": 0.368,
          "method": "D001_callebaut_pyhca",
          "target": "DP01396"
         },
         {
          "accuracy": 0.5,
          "method": "D007_galzitskaya_foldunfold",
          "target": "DP01396"
         },
         {
          "accuracy": 0.467,
          "method": "D028_zhou_spot-disorder1",
          "target": "DP01396"
         },
         {
          "accuracy": 0.498,
          "method": "D020_tosatto_espritzx",
          "target": "DP01396"
         },
         {
          "accuracy": 0.42,
          "method": "D029_zhou_spot-disorder2",
          "target": "DP01396"
         },
         {
          "accuracy": 0.469,
          "method": "D006_dosztanyi_iupreds",
          "target": "DP01396"
         },
         {
          "accuracy": 0.563,
          "method": "D013_kurgan_fidp_log",
          "target": "DP01396"
         },
         {
          "accuracy": null,
          "method": "D026_xu_aucpred",
          "target": "DP01396"
         },
         {
          "accuracy": 0.564,
          "method": "D022_vendruscolo_s2d1",
          "target": "DP01396"
         },
         {
          "accuracy": 0.9,
          "method": "D032_kurgan_dflpred",
          "target": "DP01396"
         },
         {
          "accuracy": 0.496,
          "method": "D030_zhou_spot-disorder-single",
          "target": "DP01396"
         },
         {
          "accuracy": 0.5,
          "method": "D010_hoque_dispred2",
          "target": "DP01396"
         },
         {
          "accuracy": 0.5,
          "method": "D024_vranken_disomine",
          "target": "DP01396"
         },
         {
          "accuracy": 0.483,
          "method": "D003_dosztanyi_iupred2al",
          "target": "DP01396"
         },
         {
          "accuracy": 0.799,
          "method": "D015_obradovic_vsl2",
          "target": "DP01396"
         },
         {
          "accuracy": 0.45299999999999996,
          "method": "D025_wallner_rawmsa",
          "target": "DP01396"
         },
         {
          "accuracy": 0.369,
          "method": "D016_russel_disembl_HL",
          "target": "DP01396"
         },
         {
          "accuracy": 0.494,
          "method": "D014_kurgan_fidp_nn",
          "target": "DP01396"
         },
         {
          "accuracy": 0.5760000000000001,
          "method": "D023_vendruscolo_s2d2",
          "target": "DP01396"
         },
         {
          "accuracy": 0.48,
          "method": "D005_dosztanyi_iupredl",
          "target": "DP01396"
         },
         {
          "accuracy": 0.49,
          "method": "D019_tosatto_espritzn",
          "target": "DP01396"
         },
         {
          "accuracy": 0.446,
          "method": "D021_tosatto_mobidblite",
          "target": "DP01733"
         },
         {
          "accuracy": 0.7120000000000001,
          "method": "D027_xu_aucpred_no_profile",
          "target": "DP01733"
         },
         {
          "accuracy": 0.5,
          "method": "D018_tosatto_espritzd",
          "target": "DP01733"
         },
         {
          "accuracy": 0.402,
          "method": "D004_dosztanyi_iupred2as",
          "target": "DP01733"
         },
         {
          "accuracy": 0.674,
          "method": "D008_galzitskaya_isunstruct",
          "target": "DP01733"
         },
         {
          "accuracy": 0.606,
          "method": "D002_cheng_predisorder",
          "target": "DP01733"
         },
         {
          "accuracy": 0.41,
          "method": "D009_gibson_globplot",
          "target": "DP01733"
         },
         {
          "accuracy": 0.6890000000000001,
          "method": "D031_esnouf_jronn",
          "target": "DP01733"
         },
         {
          "accuracy": 0.64,
          "method": "D011_jones_disopred3_disorder",
          "target": "DP01733"
         },
         {
          "accuracy": 0.606,
          "method": "D017_russel_disembl_465",
          "target": "DP01733"
         },
         {
          "accuracy": 0.5920000000000001,
          "method": "D001_callebaut_pyhca",
          "target": "DP01733"
         },
         {
          "accuracy": 0.5,
          "method": "D007_galzitskaya_foldunfold",
          "target": "DP01733"
         },
         {
          "accuracy": 0.561,
          "method": "D028_zhou_spot-disorder1",
          "target": "DP01733"
         },
         {
          "accuracy": 0.494,
          "method": "D020_tosatto_espritzx",
          "target": "DP01733"
         },
         {
          "accuracy": 0.693,
          "method": "D029_zhou_spot-disorder2",
          "target": "DP01733"
         },
         {
          "accuracy": 0.379,
          "method": "D006_dosztanyi_iupreds",
          "target": "DP01733"
         },
         {
          "accuracy": 0.5,
          "method": "D013_kurgan_fidp_log",
          "target": "DP01733"
         },
         {
          "accuracy": 0.31,
          "method": "D026_xu_aucpred",
          "target": "DP01733"
         },
         {
          "accuracy": 0.513,
          "method": "D022_vendruscolo_s2d1",
          "target": "DP01733"
         },
         {
          "accuracy": 0.498,
          "method": "D032_kurgan_dflpred",
          "target": "DP01733"
         },
         {
          "accuracy": 0.264,
          "method": "D030_zhou_spot-disorder-single",
          "target": "DP01733"
         },
         {
          "accuracy": 0.556,
          "method": "D010_hoque_dispred2",
          "target": "DP01733"
         },
         {
          "accuracy": 0.201,
          "method": "D024_vranken_disomine",
          "target": "DP01733"
         },
         {
          "accuracy": 0.496,
          "method": "D003_dosztanyi_iupred2al",
          "target": "DP01733"
         },
         {
          "accuracy": 0.662,
          "method": "D015_obradovic_vsl2",
          "target": "DP01733"
         },
         {
          "accuracy": 0.314,
          "method": "D025_wallner_rawmsa",
          "target": "DP01733"
         },
         {
          "accuracy": 0.7979999999999999,
          "method": "D016_russel_disembl_HL",
          "target": "DP01733"
         },
         {
          "accuracy": 0.483,
          "method": "D014_kurgan_fidp_nn",
          "target": "DP01733"
         },
         {
          "accuracy": 0.526,
          "method": "D023_vendruscolo_s2d2",
          "target": "DP01733"
         },
         {
          "accuracy": 0.442,
          "method": "D005_dosztanyi_iupredl",
          "target": "DP01733"
         },
         {
          "accuracy": 0.718,
          "method": "D019_tosatto_espritzn",
          "target": "DP01733"
         },
         {
          "accuracy": 0.299,
          "method": "D021_tosatto_mobidblite",
          "target": "DP01465"
         },
         {
          "accuracy": 0.228,
          "method": "D027_xu_aucpred_no_profile",
          "target": "DP01465"
         },
         {
          "accuracy": 0.434,
          "method": "D018_tosatto_espritzd",
          "target": "DP01465"
         },
         {
          "accuracy": 0.6559999999999999,
          "method": "D004_dosztanyi_iupred2as",
          "target": "DP01465"
         },
         {
          "accuracy": 0.382,
          "method": "D008_galzitskaya_isunstruct",
          "target": "DP01465"
         },
         {
          "accuracy": 0.545,
          "method": "D002_cheng_predisorder",
          "target": "DP01465"
         },
         {
          "accuracy": 0.84,
          "method": "D009_gibson_globplot",
          "target": "DP01465"
         },
         {
          "accuracy": 0.6559999999999999,
          "method": "D031_esnouf_jronn",
          "target": "DP01465"
         },
         {
          "accuracy": 0.64,
          "method": "D011_jones_disopred3_disorder",
          "target": "DP01465"
         },
         {
          "accuracy": 0.43200000000000005,
          "method": "D017_russel_disembl_465",
          "target": "DP01465"
         },
         {
          "accuracy": 0.588,
          "method": "D001_callebaut_pyhca",
          "target": "DP01465"
         },
         {
          "accuracy": 0.5,
          "method": "D007_galzitskaya_foldunfold",
          "target": "DP01465"
         },
         {
          "accuracy": 0.621,
          "method": "D028_zhou_spot-disorder1",
          "target": "DP01465"
         },
         {
          "accuracy": 0.35200000000000004,
          "method": "D020_tosatto_espritzx",
          "target": "DP01465"
         },
         {
          "accuracy": 0.605,
          "method": "D029_zhou_spot-disorder2",
          "target": "DP01465"
         },
         {
          "accuracy": 0.6579999999999999,
          "method": "D006_dosztanyi_iupreds",
          "target": "DP01465"
         },
         {
          "accuracy": 0.621,
          "method": "D013_kurgan_fidp_log",
          "target": "DP01465"
         },
         {
          "accuracy": 0.602,
          "method": "D026_xu_aucpred",
          "target": "DP01465"
         },
         {
          "accuracy": 0.515,
          "method": "D022_vendruscolo_s2d1",
          "target": "DP01465"
         },
         {
          "accuracy": 0.47,
          "method": "D032_kurgan_dflpred",
          "target": "DP01465"
         },
         {
          "accuracy": 0.254,
          "method": "D030_zhou_spot-disorder-single",
          "target": "DP01465"
         },
         {
          "accuracy": 0.5670000000000001,
          "method": "D010_hoque_dispred2",
          "target": "DP01465"
         },
         {
          "accuracy": 0.5,
          "method": "D024_vranken_disomine",
          "target": "DP01465"
         },
         {
          "accuracy": 0.682,
          "method": "D003_dosztanyi_iupred2al",
          "target": "DP01465"
         },
         {
          "accuracy": 0.657,
          "method": "D015_obradovic_vsl2",
          "target": "DP01465"
         },
         {
          "accuracy": 0.612,
          "method": "D025_wallner_rawmsa",
          "target": "DP01465"
         },
         {
          "accuracy": 0.40299999999999997,
          "method": "D016_russel_disembl_HL",
          "target": "DP01465"
         },
         {
          "accuracy": 0.355,
          "method": "D014_kurgan_fidp_nn",
          "target": "DP01465"
         },
         {
          "accuracy": 0.531,
          "method": "D023_vendruscolo_s2d2",
          "target": "DP01465"
         },
         {
          "accuracy": 0.6759999999999999,
          "method": "D005_dosztanyi_iupredl",
          "target": "DP01465"
         },
         {
          "accuracy": 0.73,
          "method": "D019_tosatto_espritzn",
          "target": "DP01465"
         },
         {
          "accuracy": 0.47700000000000004,
          "method": "D021_tosatto_mobidblite",
          "target": "DP02262"
         },
         {
          "accuracy": 0.46399999999999997,
          "method": "D027_xu_aucpred_no_profile",
          "target": "DP02262"
         },
         {
          "accuracy": 0.5,
          "method": "D018_tosatto_espritzd",
          "target": "DP02262"
         },
         {
          "accuracy": 0.628,
          "method": "D004_dosztanyi_iupred2as",
          "target": "DP02262"
         },
         {
          "accuracy": 0.47,
          "method": "D008_galzitskaya_isunstruct",
          "target": "DP02262"
         },
         {
          "accuracy": 0.313,
          "method": "D002_cheng_predisorder",
          "target": "DP02262"
         },
         {
          "accuracy": 0.79,
          "method": "D009_gibson_globplot",
          "target": "DP02262"
         },
         {
          "accuracy": 0.423,
          "method": "D031_esnouf_jronn",
          "target": "DP02262"
         },
         {
          "accuracy": 0.8690000000000001,
          "method": "D011_jones_disopred3_disorder",
          "target": "DP02262"
         },
         {
          "accuracy": 0.461,
          "method": "D017_russel_disembl_465",
          "target": "DP02262"
         },
         {
          "accuracy": 0.7709999999999999,
          "method": "D001_callebaut_pyhca",
          "target": "DP02262"
         },
         {
          "accuracy": 0.5,
          "method": "D007_galzitskaya_foldunfold",
          "target": "DP02262"
         },
         {
          "accuracy": 0.409,
          "method": "D028_zhou_spot-disorder1",
          "target": "DP02262"
         },
         {
          "accuracy": 0.5,
          "method": "D020_tosatto_espritzx",
          "target": "DP02262"
         },
         {
          "accuracy": 0.8690000000000001,
          "method": "D029_zhou_spot-disorder2",
          "target": "DP02262"
         },
         {
          "accuracy": 0.78,
          "method": "D006_dosztanyi_iupreds",
          "target": "DP02262"
         },
         {
          "accuracy": 0.929,
          "method": "D013_kurgan_fidp_log",
          "target": "DP02262"
         },
         {
          "accuracy": 0.425,
          "method": "D026_xu_aucpred",
          "target": "DP02262"
         },
         {
          "accuracy": 0.6759999999999999,
          "method": "D022_vendruscolo_s2d1",
          "target": "DP02262"
         },
         {
          "accuracy": 0.433,
          "method": "D032_kurgan_dflpred",
          "target": "DP02262"
         },
         {
          "accuracy": 0.409,
          "method": "D030_zhou_spot-disorder-single",
          "target": "DP02262"
         },
         {
          "accuracy": 0.596,
          "method": "D010_hoque_dispred2",
          "target": "DP02262"
         },
         {
          "accuracy": null,
          "method": "D024_vranken_disomine",
          "target": "DP02262"
         },
         {
          "accuracy": 0.763,
          "method": "D003_dosztanyi_iupred2al",
          "target": "DP02262"
         },
         {
          "accuracy": 0.67,
          "method": "D015_obradovic_vsl2",
          "target": "DP02262"
         },
         {
          "accuracy": 0.8809999999999999,
          "method": "D025_wallner_rawmsa",
          "target": "DP02262"
         },
         {
          "accuracy": 0.39299999999999996,
          "method": "D016_russel_disembl_HL",
          "target": "DP02262"
         },
         {
          "accuracy": 0.498,
          "method": "D014_kurgan_fidp_nn",
          "target": "DP02262"
         },
         {
          "accuracy": 0.6920000000000001,
          "method": "D023_vendruscolo_s2d2",
          "target": "DP02262"
         },
         {
          "accuracy": 0.71,
          "method": "D005_dosztanyi_iupredl",
          "target": "DP02262"
         },
         {
          "accuracy": 0.379,
          "method": "D019_tosatto_espritzn",
          "target": "DP02262"
         },
         {
          "accuracy": 0.85,
          "method": "D021_tosatto_mobidblite",
          "target": "DP01620"
         },
         {
          "accuracy": 0.8029999999999999,
          "method": "D027_xu_aucpred_no_profile",
          "target": "DP01620"
         },
         {
          "accuracy": 0.5,
          "method": "D018_tosatto_espritzd",
          "target": "DP01620"
         },
         {
          "accuracy": 0.773,
          "method": "D004_dosztanyi_iupred2as",
          "target": "DP01620"
         },
         {
          "accuracy": 0.625,
          "method": "D008_galzitskaya_isunstruct",
          "target": "DP01620"
         },
         {
          "accuracy": 0.542,
          "method": "D002_cheng_predisorder",
          "target": "DP01620"
         },
         {
          "accuracy": 0.7909999999999999,
          "method": "D009_gibson_globplot",
          "target": "DP01620"
         },
         {
          "accuracy": 0.5770000000000001,
          "method": "D031_esnouf_jronn",
          "target": "DP01620"
         },
         {
          "accuracy": 0.645,
          "method": "D011_jones_disopred3_disorder",
          "target": "DP01620"
         },
         {
          "accuracy": 0.369,
          "method": "D017_russel_disembl_465",
          "target": "DP01620"
         },
         {
          "accuracy": 0.614,
          "method": "D001_callebaut_pyhca",
          "target": "DP01620"
         },
         {
          "accuracy": 0.5,
          "method": "D007_galzitskaya_foldunfold",
          "target": "DP01620"
         },
         {
          "accuracy": 0.525,
          "method": "D028_zhou_spot-disorder1",
          "target": "DP01620"
         },
         {
          "accuracy": 0.484,
          "method": "D020_tosatto_espritzx",
          "target": "DP01620"
         },
         {
          "accuracy": 0.59,
          "method": "D029_zhou_spot-disorder2",
          "target": "DP01620"
         },
         {
          "accuracy": 0.769,
          "method": "D006_dosztanyi_iupreds",
          "target": "DP01620"
         },
         {
          "accuracy": 0.40399999999999997,
          "method": "D013_kurgan_fidp_log",
          "target": "DP01620"
         },
         {
          "accuracy": 0.637,
          "method": "D026_xu_aucpred",
          "target": "DP01620"
         },
         {
          "accuracy": 0.5329999999999999,
          "method": "D022_vendruscolo_s2d1",
          "target": "DP01620"
         },
         {
          "accuracy": 0.5,
          "method": "D032_kurgan_dflpred",
          "target": "DP01620"
         },
         {
          "accuracy": 0.20800000000000002,
          "method": "D030_zhou_spot-disorder-single",
          "target": "DP01620"
         },
         {
          "accuracy": 0.366,
          "method": "D010_hoque_dispred2",
          "target": "DP01620"
         },
         {
          "accuracy": 0.5870000000000001,
          "method": "D024_vranken_disomine",
          "target": "DP01620"
         },
         {
          "accuracy": 0.674,
          "method": "D003_dosztanyi_iupred2al",
          "target": "DP01620"
         },
         {
          "accuracy": 0.5589999999999999,
          "method": "D015_obradovic_vsl2",
          "target": "DP01620"
         },
         {
          "accuracy": 0.547,
          "method": "D025_wallner_rawmsa",
          "target": "DP01620"
         },
         {
          "accuracy": 0.879,
          "method": "D016_russel_disembl_HL",
          "target": "DP01620"
         },
         {
          "accuracy": 0.498,
          "method": "D014_kurgan_fidp_nn",
          "target": "DP01620"
         },
         {
          "accuracy": 0.5479999999999999,
          "method": "D023_vendruscolo_s2d2",
          "target": "DP01620"
         },
         {
          "accuracy": 0.654,
          "method": "D005_dosztanyi_iupredl",
          "target": "DP01620"
         },
         {
          "accuracy": 0.73,
          "method": "D019_tosatto_espritzn",
          "target": "DP01620"
         },
         {
          "accuracy": 0.324,
          "method": "D021_tosatto_mobidblite",
          "target": "DP01485"
         },
         {
          "accuracy": 0.807,
          "method": "D027_xu_aucpred_no_profile",
          "target": "DP01485"
         },
         {
          "accuracy": 0.379,
          "method": "D018_tosatto_espritzd",
          "target": "DP01485"
         },
         {
          "accuracy": 0.382,
          "method": "D004_dosztanyi_iupred2as",
          "target": "DP01485"
         },
         {
          "accuracy": 0.778,
          "method": "D008_galzitskaya_isunstruct",
          "target": "DP01485"
         },
         {
          "accuracy": 0.7490000000000001,
          "method": "D002_cheng_predisorder",
          "target": "DP01485"
         },
         {
          "accuracy": 0.635,
          "method": "D009_gibson_globplot",
          "target": "DP01485"
         },
         {
          "accuracy": 0.782,
          "method": "D031_esnouf_jronn",
          "target": "DP01485"
         },
         {
          "accuracy": 0.82,
          "method": "D011_jones_disopred3_disorder",
          "target": "DP01485"
         },
         {
          "accuracy": 0.573,
          "method": "D017_russel_disembl_465",
          "target": "DP01485"
         },
         {
          "accuracy": 0.364,
          "method": "D001_callebaut_pyhca",
          "target": "DP01485"
         },
         {
          "accuracy": 0.5,
          "method": "D007_galzitskaya_foldunfold",
          "target": "DP01485"
         },
         {
          "accuracy": 0.821,
          "method": "D028_zhou_spot-disorder1",
          "target": "DP01485"
         },
         {
          "accuracy": 0.348,
          "method": "D020_tosatto_espritzx",
          "target": "DP01485"
         },
         {
          "accuracy": 0.8240000000000001,
          "method": "D029_zhou_spot-disorder2",
          "target": "DP01485"
         },
         {
          "accuracy": 0.402,
          "method": "D006_dosztanyi_iupreds",
          "target": "DP01485"
         },
         {
          "accuracy": 0.748,
          "method": "D013_kurgan_fidp_log",
          "target": "DP01485"
         },
         {
          "accuracy": 0.8170000000000001,
          "method": "D026_xu_aucpred",
          "target": "DP01485"
         },
         {
          "accuracy": 0.573,
          "method": "D022_vendruscolo_s2d1",
          "target": "DP01485"
         },
         {
          "accuracy": 0.708,
          "method": "D032_kurgan_dflpred",
          "target": "DP01485"
         },
         {
          "accuracy": 0.317,
          "method": "D030_zhou_spot-disorder-single",
          "target": "DP01485"
         },
         {
          "accuracy": 0.384,
          "method": "D010_hoque_dispred2",
          "target": "DP01485"
         },
         {
          "accuracy": 0.276,
          "method": "D024_vranken_disomine",
          "target": "DP01485"
         },
         {
          "accuracy": 0.426,
          "method": "D003_dosztanyi_iupred2al",
          "target": "DP01485"
         },
         {
          "accuracy": 0.7829999999999999,
          "method": "D015_obradovic_vsl2",
          "target": "DP01485"
         },
         {
          "accuracy": 0.7020000000000001,
          "method": "D025_wallner_rawmsa",
          "target": "DP01485"
         },
         {
          "accuracy": 0.738,
          "method": "D016_russel_disembl_HL",
          "target": "DP01485"
         },
         {
          "accuracy": 0.447,
          "method": "D014_kurgan_fidp_nn",
          "target": "DP01485"
         },
         {
          "accuracy": 0.63,
          "method": "D023_vendruscolo_s2d2",
          "target": "DP01485"
         },
         {
          "accuracy": 0.522,
          "method": "D005_dosztanyi_iupredl",
          "target": "DP01485"
         },
         {
          "accuracy": 0.493,
          "method": "D019_tosatto_espritzn",
          "target": "DP01485"
         },
         {
          "accuracy": null,
          "method": "D021_tosatto_mobidblite",
          "target": "DP01650"
         },
         {
          "accuracy": 0.42700000000000005,
          "method": "D027_xu_aucpred_no_profile",
          "target": "DP01650"
         },
         {
          "accuracy": 0.586,
          "method": "D018_tosatto_espritzd",
          "target": "DP01650"
         },
         {
          "accuracy": 0.45,
          "method": "D004_dosztanyi_iupred2as",
          "target": "DP01650"
         },
         {
          "accuracy": 0.295,
          "method": "D008_galzitskaya_isunstruct",
          "target": "DP01650"
         },
         {
          "accuracy": 0.8,
          "method": "D002_cheng_predisorder",
          "target": "DP01650"
         },
         {
          "accuracy": 0.48200000000000004,
          "method": "D009_gibson_globplot",
          "target": "DP01650"
         },
         {
          "accuracy": 0.336,
          "method": "D031_esnouf_jronn",
          "target": "DP01650"
         },
         {
          "accuracy": 0.495,
          "method": "D011_jones_disopred3_disorder",
          "target": "DP01650"
         },
         {
          "accuracy": 0.386,
          "method": "D017_russel_disembl_465",
          "target": "DP01650"
         },
         {
          "accuracy": 0.655,
          "method": "D001_callebaut_pyhca",
          "target": "DP01650"
         },
         {
          "accuracy": 0.5,
          "method": "D007_galzitskaya_foldunfold",
          "target": "DP01650"
         },
         {
          "accuracy": 0.773,
          "method": "D028_zhou_spot-disorder1",
          "target": "DP01650"
         },
         {
          "accuracy": 0.491,
          "method": "D020_tosatto_espritzx",
          "target": "DP01650"
         },
         {
          "accuracy": 0.9359999999999999,
          "method": "D029_zhou_spot-disorder2",
          "target": "DP01650"
         },
         {
          "accuracy": 0.45,
          "method": "D006_dosztanyi_iupreds",
          "target": "DP01650"
         },
         {
          "accuracy": 0.5,
          "method": "D013_kurgan_fidp_log",
          "target": "DP01650"
         },
         {
          "accuracy": 0.941,
          "method": "D026_xu_aucpred",
          "target": "DP01650"
         },
         {
          "accuracy": 0.7909999999999999,
          "method": "D022_vendruscolo_s2d1",
          "target": "DP01650"
         },
         {
          "accuracy": 0.636,
          "method": "D032_kurgan_dflpred",
          "target": "DP01650"
         },
         {
          "accuracy": 0.445,
          "method": "D030_zhou_spot-disorder-single",
          "target": "DP01650"
         },
         {
          "accuracy": 0.6,
          "method": "D010_hoque_dispred2",
          "target": "DP01650"
         },
         {
          "accuracy": 0.568,
          "method": "D024_vranken_disomine",
          "target": "DP01650"
         },
         {
          "accuracy": 0.5,
          "method": "D003_dosztanyi_iupred2al",
          "target": "DP01650"
         },
         {
          "accuracy": 0.245,
          "method": "D015_obradovic_vsl2",
          "target": "DP01650"
         },
         {
          "accuracy": 0.782,
          "method": "D025_wallner_rawmsa",
          "target": "DP01650"
         },
         {
          "accuracy": 0.386,
          "method": "D016_russel_disembl_HL",
          "target": "DP01650"
         },
         {
          "accuracy": 0.7,
          "method": "D014_kurgan_fidp_nn",
          "target": "DP01650"
         },
         {
          "accuracy": 0.727,
          "method": "D023_vendruscolo_s2d2",
          "target": "DP01650"
         },
         {
          "accuracy": 0.5,
          "method": "D005_dosztanyi_iupredl",
          "target": "DP01650"
         },
         {
          "accuracy": 0.5,
          "method": "D019_tosatto_espritzn",
          "target": "DP01650"
         },
         {
          "accuracy": null,
          "method": "D021_tosatto_mobidblite",
          "target": "DP01496"
         },
         {
          "accuracy": 0.47600000000000003,
          "method": "D027_xu_aucpred_no_profile",
          "target": "DP01496"
         },
         {
          "accuracy": 0.494,
          "method": "D018_tosatto_espritzd",
          "target": "DP01496"
         },
         {
          "accuracy": 0.8909999999999999,
          "method": "D004_dosztanyi_iupred2as",
          "target": "DP01496"
         },
         {
          "accuracy": 0.873,
          "method": "D008_galzitskaya_isunstruct",
          "target": "DP01496"
         },
         {
          "accuracy": 0.807,
          "method": "D002_cheng_predisorder",
          "target": "DP01496"
         },
         {
          "accuracy": 0.6970000000000001,
          "method": "D009_gibson_globplot",
          "target": "DP01496"
         },
         {
          "accuracy": 0.746,
          "method": "D031_esnouf_jronn",
          "target": "DP01496"
         },
         {
          "accuracy": 0.47,
          "method": "D011_jones_disopred3_disorder",
          "target": "DP01496"
         },
         {
          "accuracy": 0.44,
          "method": "D017_russel_disembl_465",
          "target": "DP01496"
         },
         {
          "accuracy": 0.5489999999999999,
          "method": "D001_callebaut_pyhca",
          "target": "DP01496"
         },
         {
          "accuracy": 0.5,
          "method": "D007_galzitskaya_foldunfold",
          "target": "DP01496"
         },
         {
          "accuracy": 0.47,
          "method": "D028_zhou_spot-disorder1",
          "target": "DP01496"
         },
         {
          "accuracy": 0.488,
          "method": "D020_tosatto_espritzx",
          "target": "DP01496"
         },
         {
          "accuracy": 0.48200000000000004,
          "method": "D029_zhou_spot-disorder2",
          "target": "DP01496"
         },
         {
          "accuracy": 0.922,
          "method": "D006_dosztanyi_iupreds",
          "target": "DP01496"
         },
         {
          "accuracy": null,
          "method": "D013_kurgan_fidp_log",
          "target": "DP01496"
         },
         {
          "accuracy": 0.48200000000000004,
          "method": "D026_xu_aucpred",
          "target": "DP01496"
         },
         {
          "accuracy": 0.622,
          "method": "D022_vendruscolo_s2d1",
          "target": "DP01496"
         },
         {
          "accuracy": 0.467,
          "method": "D032_kurgan_dflpred",
          "target": "DP01496"
         },
         {
          "accuracy": 0.479,
          "method": "D030_zhou_spot-disorder-single",
          "target": "DP01496"
         },
         {
          "accuracy": 0.5,
          "method": "D010_hoque_dispred2",
          "target": "DP01496"
         },
         {
          "accuracy": 0.7490000000000001,
          "method": "D024_vranken_disomine",
          "target": "DP01496"
         },
         {
          "accuracy": 0.8,
          "method": "D003_dosztanyi_iupred2al",
          "target": "DP01496"
         },
         {
          "accuracy": 0.883,
          "method": "D015_obradovic_vsl2",
          "target": "DP01496"
         },
         {
          "accuracy": 0.5,
          "method": "D025_wallner_rawmsa",
          "target": "DP01496"
         },
         {
          "accuracy": 0.665,
          "method": "D016_russel_disembl_HL",
          "target": "DP01496"
         },
         {
          "accuracy": null,
          "method": "D014_kurgan_fidp_nn",
          "target": "DP01496"
         },
         {
          "accuracy": 0.586,
          "method": "D023_vendruscolo_s2d2",
          "target": "DP01496"
         },
         {
          "accuracy": 0.797,
          "method": "D005_dosztanyi_iupredl",
          "target": "DP01496"
         },
         {
          "accuracy": 0.485,
          "method": "D019_tosatto_espritzn",
          "target": "DP01496"
         },
         {
          "accuracy": null,
          "method": "D021_tosatto_mobidblite",
          "target": "DP02193"
         },
         {
          "accuracy": 0.596,
          "method": "D027_xu_aucpred_no_profile",
          "target": "DP02193"
         },
         {
          "accuracy": 0.5,
          "method": "D018_tosatto_espritzd",
          "target": "DP02193"
         },
         {
          "accuracy": 0.478,
          "method": "D004_dosztanyi_iupred2as",
          "target": "DP02193"
         },
         {
          "accuracy": 0.6509999999999999,
          "method": "D008_galzitskaya_isunstruct",
          "target": "DP02193"
         },
         {
          "accuracy": 0.746,
          "method": "D002_cheng_predisorder",
          "target": "DP02193"
         },
         {
          "accuracy": 0.5589999999999999,
          "method": "D009_gibson_globplot",
          "target": "DP02193"
         },
         {
          "accuracy": 0.7090000000000001,
          "method": "D031_esnouf_jronn",
          "target": "DP02193"
         },
         {
          "accuracy": 0.49700000000000005,
          "method": "D011_jones_disopred3_disorder",
          "target": "DP02193"
         },
         {
          "accuracy": 0.57,
          "method": "D017_russel_disembl_465",
          "target": "DP02193"
         },
         {
          "accuracy": 0.584,
          "method": "D001_callebaut_pyhca",
          "target": "DP02193"
         },
         {
          "accuracy": 0.5,
          "method": "D007_galzitskaya_foldunfold",
          "target": "DP02193"
         },
         {
          "accuracy": 0.688,
          "method": "D028_zhou_spot-disorder1",
          "target": "DP02193"
         },
         {
          "accuracy": 0.5,
          "method": "D020_tosatto_espritzx",
          "target": "DP02193"
         },
         {
          "accuracy": 0.81,
          "method": "D029_zhou_spot-disorder2",
          "target": "DP02193"
         },
         {
          "accuracy": 0.519,
          "method": "D006_dosztanyi_iupreds",
          "target": "DP02193"
         },
         {
          "accuracy": null,
          "method": "D013_kurgan_fidp_log",
          "target": "DP02193"
         },
         {
          "accuracy": 0.68,
          "method": "D026_xu_aucpred",
          "target": "DP02193"
         },
         {
          "accuracy": 0.643,
          "method": "D022_vendruscolo_s2d1",
          "target": "DP02193"
         },
         {
          "accuracy": 0.627,
          "method": "D032_kurgan_dflpred",
          "target": "DP02193"
         },
         {
          "accuracy": 0.49,
          "method": "D030_zhou_spot-disorder-single",
          "target": "DP02193"
         },
         {
          "accuracy": 0.65,
          "method": "D010_hoque_dispred2",
          "target": "DP02193"
         },
         {
          "accuracy": 0.564,
          "method": "D024_vranken_disomine",
          "target": "DP02193"
         },
         {
          "accuracy": 0.5710000000000001,
          "method": "D003_dosztanyi_iupred2al",
          "target": "DP02193"
         },
         {
          "accuracy": 0.625,
          "method": "D015_obradovic_vsl2",
          "target": "DP02193"
         },
         {
          "accuracy": 0.696,
          "method": "D025_wallner_rawmsa",
          "target": "DP02193"
         },
         {
          "accuracy": 0.565,
          "method": "D016_russel_disembl_HL",
          "target": "DP02193"
         },
         {
          "accuracy": null,
          "method": "D014_kurgan_fidp_nn",
          "target": "DP02193"
         },
         {
          "accuracy": 0.611,
          "method": "D023_vendruscolo_s2d2",
          "target": "DP02193"
         },
         {
          "accuracy": 0.503,
          "method": "D005_dosztanyi_iupredl",
          "target": "DP02193"
         },
         {
          "accuracy": 0.888,
          "method": "D019_tosatto_espritzn",
          "target": "DP02193"
         },
         {
          "accuracy": 0.585,
          "method": "D021_tosatto_mobidblite",
          "target": "DP01192"
         },
         {
          "accuracy": 0.39,
          "method": "D027_xu_aucpred_no_profile",
          "target": "DP01192"
         },
         {
          "accuracy": 0.409,
          "method": "D018_tosatto_espritzd",
          "target": "DP01192"
         },
         {
          "accuracy": 0.7040000000000001,
          "method": "D004_dosztanyi_iupred2as",
          "target": "DP01192"
         },
         {
          "accuracy": 0.779,
          "method": "D008_galzitskaya_isunstruct",
          "target": "DP01192"
         },
         {
          "accuracy": 0.769,
          "method": "D002_cheng_predisorder",
          "target": "DP01192"
         },
         {
          "accuracy": 0.511,
          "method": "D009_gibson_globplot",
          "target": "DP01192"
         },
         {
          "accuracy": 0.732,
          "method": "D031_esnouf_jronn",
          "target": "DP01192"
         },
         {
          "accuracy": 0.833,
          "method": "D011_jones_disopred3_disorder",
          "target": "DP01192"
         },
         {
          "accuracy": 0.556,
          "method": "D017_russel_disembl_465",
          "target": "DP01192"
         },
         {
          "accuracy": 0.7709999999999999,
          "method": "D001_callebaut_pyhca",
          "target": "DP01192"
         },
         {
          "accuracy": 0.5,
          "method": "D007_galzitskaya_foldunfold",
          "target": "DP01192"
         },
         {
          "accuracy": 0.789,
          "method": "D028_zhou_spot-disorder1",
          "target": "DP01192"
         },
         {
          "accuracy": 0.562,
          "method": "D020_tosatto_espritzx",
          "target": "DP01192"
         },
         {
          "accuracy": 0.78,
          "method": "D029_zhou_spot-disorder2",
          "target": "DP01192"
         },
         {
          "accuracy": 0.7040000000000001,
          "method": "D006_dosztanyi_iupreds",
          "target": "DP01192"
         },
         {
          "accuracy": 0.8029999999999999,
          "method": "D013_kurgan_fidp_log",
          "target": "DP01192"
         },
         {
          "accuracy": 0.775,
          "method": "D026_xu_aucpred",
          "target": "DP01192"
         },
         {
          "accuracy": 0.6759999999999999,
          "method": "D022_vendruscolo_s2d1",
          "target": "DP01192"
         },
         {
          "accuracy": 0.42200000000000004,
          "method": "D032_kurgan_dflpred",
          "target": "DP01192"
         },
         {
          "accuracy": 0.583,
          "method": "D030_zhou_spot-disorder-single",
          "target": "DP01192"
         },
         {
          "accuracy": 0.721,
          "method": "D010_hoque_dispred2",
          "target": "DP01192"
         },
         {
          "accuracy": 0.81,
          "method": "D024_vranken_disomine",
          "target": "DP01192"
         },
         {
          "accuracy": 0.76,
          "method": "D003_dosztanyi_iupred2al",
          "target": "DP01192"
         },
         {
          "accuracy": 0.693,
          "method": "D015_obradovic_vsl2",
          "target": "DP01192"
         },
         {
          "accuracy": 0.785,
          "method": "D025_wallner_rawmsa",
          "target": "DP01192"
         },
         {
          "accuracy": 0.7340000000000001,
          "method": "D016_russel_disembl_HL",
          "target": "DP01192"
         },
         {
          "accuracy": 0.848,
          "method": "D014_kurgan_fidp_nn",
          "target": "DP01192"
         },
         {
          "accuracy": 0.684,
          "method": "D023_vendruscolo_s2d2",
          "target": "DP01192"
         },
         {
          "accuracy": 0.754,
          "method": "D005_dosztanyi_iupredl",
          "target": "DP01192"
         },
         {
          "accuracy": 0.863,
          "method": "D019_tosatto_espritzn",
          "target": "DP01192"
         },
         {
          "accuracy": 0.5710000000000001,
          "method": "D021_tosatto_mobidblite",
          "target": "DP01426"
         },
         {
          "accuracy": 0.774,
          "method": "D027_xu_aucpred_no_profile",
          "target": "DP01426"
         },
         {
          "accuracy": 0.441,
          "method": "D018_tosatto_espritzd",
          "target": "DP01426"
         },
         {
          "accuracy": 0.74,
          "method": "D004_dosztanyi_iupred2as",
          "target": "DP01426"
         },
         {
          "accuracy": 0.8540000000000001,
          "method": "D008_galzitskaya_isunstruct",
          "target": "DP01426"
         },
         {
          "accuracy": 0.7829999999999999,
          "method": "D002_cheng_predisorder",
          "target": "DP01426"
         },
         {
          "accuracy": 0.573,
          "method": "D009_gibson_globplot",
          "target": "DP01426"
         },
         {
          "accuracy": 0.855,
          "method": "D031_esnouf_jronn",
          "target": "DP01426"
         },
         {
          "accuracy": 0.826,
          "method": "D011_jones_disopred3_disorder",
          "target": "DP01426"
         },
         {
          "accuracy": 0.7040000000000001,
          "method": "D017_russel_disembl_465",
          "target": "DP01426"
         },
         {
          "accuracy": 0.564,
          "method": "D001_callebaut_pyhca",
          "target": "DP01426"
         },
         {
          "accuracy": 0.5,
          "method": "D007_galzitskaya_foldunfold",
          "target": "DP01426"
         },
         {
          "accuracy": 0.863,
          "method": "D028_zhou_spot-disorder1",
          "target": "DP01426"
         },
         {
          "accuracy": 0.45899999999999996,
          "method": "D020_tosatto_espritzx",
          "target": "DP01426"
         },
         {
          "accuracy": 0.86,
          "method": "D029_zhou_spot-disorder2",
          "target": "DP01426"
         },
         {
          "accuracy": 0.753,
          "method": "D006_dosztanyi_iupreds",
          "target": "DP01426"
         },
         {
          "accuracy": 0.5,
          "method": "D013_kurgan_fidp_log",
          "target": "DP01426"
         },
         {
          "accuracy": 0.8859999999999999,
          "method": "D026_xu_aucpred",
          "target": "DP01426"
         },
         {
          "accuracy": 0.713,
          "method": "D022_vendruscolo_s2d1",
          "target": "DP01426"
         },
         {
          "accuracy": 0.784,
          "method": "D032_kurgan_dflpred",
          "target": "DP01426"
         },
         {
          "accuracy": 0.5870000000000001,
          "method": "D030_zhou_spot-disorder-single",
          "target": "DP01426"
         },
         {
          "accuracy": 0.527,
          "method": "D010_hoque_dispred2",
          "target": "DP01426"
         },
         {
          "accuracy": 0.401,
          "method": "D024_vranken_disomine",
          "target": "DP01426"
         },
         {
          "accuracy": 0.6890000000000001,
          "method": "D003_dosztanyi_iupred2al",
          "target": "DP01426"
         },
         {
          "accuracy": 0.8190000000000001,
          "method": "D015_obradovic_vsl2",
          "target": "DP01426"
         },
         {
          "accuracy": 0.483,
          "method": "D025_wallner_rawmsa",
          "target": "DP01426"
         },
         {
          "accuracy": 0.657,
          "method": "D016_russel_disembl_HL",
          "target": "DP01426"
         },
         {
          "accuracy": 0.49200000000000005,
          "method": "D014_kurgan_fidp_nn",
          "target": "DP01426"
         },
         {
          "accuracy": 0.738,
          "method": "D023_vendruscolo_s2d2",
          "target": "DP01426"
         },
         {
          "accuracy": 0.7240000000000001,
          "method": "D005_dosztanyi_iupredl",
          "target": "DP01426"
         },
         {
          "accuracy": 0.512,
          "method": "D019_tosatto_espritzn",
          "target": "DP01426"
         },
         {
          "accuracy": 0.772,
          "method": "D021_tosatto_mobidblite",
          "target": "DP02292"
         },
         {
          "accuracy": 0.7340000000000001,
          "method": "D027_xu_aucpred_no_profile",
          "target": "DP02292"
         },
         {
          "accuracy": 0.5,
          "method": "D018_tosatto_espritzd",
          "target": "DP02292"
         },
         {
          "accuracy": 0.755,
          "method": "D004_dosztanyi_iupred2as",
          "target": "DP02292"
         },
         {
          "accuracy": 0.705,
          "method": "D008_galzitskaya_isunstruct",
          "target": "DP02292"
         },
         {
          "accuracy": 0.705,
          "method": "D002_cheng_predisorder",
          "target": "DP02292"
         },
         {
          "accuracy": 0.5539999999999999,
          "method": "D009_gibson_globplot",
          "target": "DP02292"
         },
         {
          "accuracy": 0.7909999999999999,
          "method": "D031_esnouf_jronn",
          "target": "DP02292"
         },
         {
          "accuracy": 0.8220000000000001,
          "method": "D011_jones_disopred3_disorder",
          "target": "DP02292"
         },
         {
          "accuracy": 0.6609999999999999,
          "method": "D017_russel_disembl_465",
          "target": "DP02292"
         },
         {
          "accuracy": 0.8390000000000001,
          "method": "D001_callebaut_pyhca",
          "target": "DP02292"
         },
         {
          "accuracy": 0.5,
          "method": "D007_galzitskaya_foldunfold",
          "target": "DP02292"
         },
         {
          "accuracy": 0.835,
          "method": "D028_zhou_spot-disorder1",
          "target": "DP02292"
         },
         {
          "accuracy": 0.612,
          "method": "D020_tosatto_espritzx",
          "target": "DP02292"
         },
         {
          "accuracy": 0.762,
          "method": "D029_zhou_spot-disorder2",
          "target": "DP02292"
         },
         {
          "accuracy": 0.764,
          "method": "D006_dosztanyi_iupreds",
          "target": "DP02292"
         },
         {
          "accuracy": 0.41100000000000003,
          "method": "D013_kurgan_fidp_log",
          "target": "DP02292"
         },
         {
          "accuracy": 0.78,
          "method": "D026_xu_aucpred",
          "target": "DP02292"
         },
         {
          "accuracy": 0.607,
          "method": "D022_vendruscolo_s2d1",
          "target": "DP02292"
         },
         {
          "accuracy": 0.46299999999999997,
          "method": "D032_kurgan_dflpred",
          "target": "DP02292"
         },
         {
          "accuracy": 0.757,
          "method": "D030_zhou_spot-disorder-single",
          "target": "DP02292"
         },
         {
          "accuracy": 0.485,
          "method": "D010_hoque_dispred2",
          "target": "DP02292"
         },
         {
          "accuracy": 0.691,
          "method": "D024_vranken_disomine",
          "target": "DP02292"
         },
         {
          "accuracy": 0.8170000000000001,
          "method": "D003_dosztanyi_iupred2al",
          "target": "DP02292"
         },
         {
          "accuracy": 0.6509999999999999,
          "method": "D015_obradovic_vsl2",
          "target": "DP02292"
         },
         {
          "accuracy": 0.8,
          "method": "D025_wallner_rawmsa",
          "target": "DP02292"
         },
         {
          "accuracy": 0.64,
          "method": "D016_russel_disembl_HL",
          "target": "DP02292"
         },
         {
          "accuracy": 0.5,
          "method": "D014_kurgan_fidp_nn",
          "target": "DP02292"
         },
         {
          "accuracy": 0.633,
          "method": "D023_vendruscolo_s2d2",
          "target": "DP02292"
         },
         {
          "accuracy": 0.8140000000000001,
          "method": "D005_dosztanyi_iupredl",
          "target": "DP02292"
         },
         {
          "accuracy": 0.7609999999999999,
          "method": "D019_tosatto_espritzn",
          "target": "DP02292"
         },
         {
          "accuracy": 0.747,
          "method": "D021_tosatto_mobidblite",
          "target": "DP01206"
         },
         {
          "accuracy": 0.8440000000000001,
          "method": "D027_xu_aucpred_no_profile",
          "target": "DP01206"
         },
         {
          "accuracy": 0.5,
          "method": "D018_tosatto_espritzd",
          "target": "DP01206"
         },
         {
          "accuracy": 0.804,
          "method": "D004_dosztanyi_iupred2as",
          "target": "DP01206"
         },
         {
          "accuracy": 0.7659999999999999,
          "method": "D008_galzitskaya_isunstruct",
          "target": "DP01206"
         },
         {
          "accuracy": 0.731,
          "method": "D002_cheng_predisorder",
          "target": "DP01206"
         },
         {
          "accuracy": 0.731,
          "method": "D009_gibson_globplot",
          "target": "DP01206"
         },
         {
          "accuracy": 0.746,
          "method": "D031_esnouf_jronn",
          "target": "DP01206"
         },
         {
          "accuracy": 0.648,
          "method": "D011_jones_disopred3_disorder",
          "target": "DP01206"
         },
         {
          "accuracy": 0.41200000000000003,
          "method": "D017_russel_disembl_465",
          "target": "DP01206"
         },
         {
          "accuracy": 0.7020000000000001,
          "method": "D001_callebaut_pyhca",
          "target": "DP01206"
         },
         {
          "accuracy": 0.5,
          "method": "D007_galzitskaya_foldunfold",
          "target": "DP01206"
         },
         {
          "accuracy": 0.733,
          "method": "D028_zhou_spot-disorder1",
          "target": "DP01206"
         },
         {
          "accuracy": 0.659,
          "method": "D020_tosatto_espritzx",
          "target": "DP01206"
         },
         {
          "accuracy": 0.775,
          "method": "D029_zhou_spot-disorder2",
          "target": "DP01206"
         },
         {
          "accuracy": 0.7859999999999999,
          "method": "D006_dosztanyi_iupreds",
          "target": "DP01206"
         },
         {
          "accuracy": 0.5,
          "method": "D013_kurgan_fidp_log",
          "target": "DP01206"
         },
         {
          "accuracy": 0.825,
          "method": "D026_xu_aucpred",
          "target": "DP01206"
         },
         {
          "accuracy": 0.605,
          "method": "D022_vendruscolo_s2d1",
          "target": "DP01206"
         },
         {
          "accuracy": 0.47100000000000003,
          "method": "D032_kurgan_dflpred",
          "target": "DP01206"
         },
         {
          "accuracy": 0.8,
          "method": "D030_zhou_spot-disorder-single",
          "target": "DP01206"
         },
         {
          "accuracy": 0.747,
          "method": "D010_hoque_dispred2",
          "target": "DP01206"
         },
         {
          "accuracy": 0.6970000000000001,
          "method": "D024_vranken_disomine",
          "target": "DP01206"
         },
         {
          "accuracy": 0.841,
          "method": "D003_dosztanyi_iupred2al",
          "target": "DP01206"
         },
         {
          "accuracy": 0.7040000000000001,
          "method": "D015_obradovic_vsl2",
          "target": "DP01206"
         },
         {
          "accuracy": 0.8140000000000001,
          "method": "D025_wallner_rawmsa",
          "target": "DP01206"
         },
         {
          "accuracy": 0.40299999999999997,
          "method": "D016_russel_disembl_HL",
          "target": "DP01206"
         },
         {
          "accuracy": 0.5,
          "method": "D014_kurgan_fidp_nn",
          "target": "DP01206"
         },
         {
          "accuracy": 0.622,
          "method": "D023_vendruscolo_s2d2",
          "target": "DP01206"
         },
         {
          "accuracy": 0.83,
          "method": "D005_dosztanyi_iupredl",
          "target": "DP01206"
         },
         {
          "accuracy": 0.8340000000000001,
          "method": "D019_tosatto_espritzn",
          "target": "DP01206"
         },
         {
          "accuracy": 0.821,
          "method": "D021_tosatto_mobidblite",
          "target": "DP02138"
         },
         {
          "accuracy": 0.5760000000000001,
          "method": "D027_xu_aucpred_no_profile",
          "target": "DP02138"
         },
         {
          "accuracy": 0.5,
          "method": "D018_tosatto_espritzd",
          "target": "DP02138"
         },
         {
          "accuracy": 0.637,
          "method": "D004_dosztanyi_iupred2as",
          "target": "DP02138"
         },
         {
          "accuracy": 0.619,
          "method": "D008_galzitskaya_isunstruct",
          "target": "DP02138"
         },
         {
          "accuracy": 0.589,
          "method": "D002_cheng_predisorder",
          "target": "DP02138"
         },
         {
          "accuracy": 0.62,
          "method": "D009_gibson_globplot",
          "target": "DP02138"
         },
         {
          "accuracy": 0.634,
          "method": "D031_esnouf_jronn",
          "target": "DP02138"
         },
         {
          "accuracy": 0.593,
          "method": "D011_jones_disopred3_disorder",
          "target": "DP02138"
         },
         {
          "accuracy": 0.63,
          "method": "D017_russel_disembl_465",
          "target": "DP02138"
         },
         {
          "accuracy": 0.626,
          "method": "D001_callebaut_pyhca",
          "target": "DP02138"
         },
         {
          "accuracy": 0.5,
          "method": "D007_galzitskaya_foldunfold",
          "target": "DP02138"
         },
         {
          "accuracy": 0.74,
          "method": "D028_zhou_spot-disorder1",
          "target": "DP02138"
         },
         {
          "accuracy": 0.58,
          "method": "D020_tosatto_espritzx",
          "target": "DP02138"
         },
         {
          "accuracy": 0.735,
          "method": "D029_zhou_spot-disorder2",
          "target": "DP02138"
         },
         {
          "accuracy": 0.6409999999999999,
          "method": "D006_dosztanyi_iupreds",
          "target": "DP02138"
         },
         {
          "accuracy": 0.6809999999999999,
          "method": "D013_kurgan_fidp_log",
          "target": "DP02138"
         },
         {
          "accuracy": 0.682,
          "method": "D026_xu_aucpred",
          "target": "DP02138"
         },
         {
          "accuracy": 0.6759999999999999,
          "method": "D022_vendruscolo_s2d1",
          "target": "DP02138"
         },
         {
          "accuracy": 0.5,
          "method": "D032_kurgan_dflpred",
          "target": "DP02138"
         },
         {
          "accuracy": 0.715,
          "method": "D030_zhou_spot-disorder-single",
          "target": "DP02138"
         },
         {
          "accuracy": 0.574,
          "method": "D010_hoque_dispred2",
          "target": "DP02138"
         },
         {
          "accuracy": 0.693,
          "method": "D024_vranken_disomine",
          "target": "DP02138"
         },
         {
          "accuracy": 0.628,
          "method": "D003_dosztanyi_iupred2al",
          "target": "DP02138"
         },
         {
          "accuracy": 0.557,
          "method": "D015_obradovic_vsl2",
          "target": "DP02138"
         },
         {
          "accuracy": 0.635,
          "method": "D025_wallner_rawmsa",
          "target": "DP02138"
         },
         {
          "accuracy": 0.628,
          "method": "D016_russel_disembl_HL",
          "target": "DP02138"
         },
         {
          "accuracy": 0.789,
          "method": "D014_kurgan_fidp_nn",
          "target": "DP02138"
         },
         {
          "accuracy": 0.664,
          "method": "D023_vendruscolo_s2d2",
          "target": "DP02138"
         },
         {
          "accuracy": 0.621,
          "method": "D005_dosztanyi_iupredl",
          "target": "DP02138"
         },
         {
          "accuracy": 0.8009999999999999,
          "method": "D019_tosatto_espritzn",
          "target": "DP02138"
         },
         {
          "accuracy": 0.7440000000000001,
          "method": "D021_tosatto_mobidblite",
          "target": "DP01661"
         },
         {
          "accuracy": 0.7440000000000001,
          "method": "D027_xu_aucpred_no_profile",
          "target": "DP01661"
         },
         {
          "accuracy": 0.5,
          "method": "D018_tosatto_espritzd",
          "target": "DP01661"
         },
         {
          "accuracy": 0.795,
          "method": "D004_dosztanyi_iupred2as",
          "target": "DP01661"
         },
         {
          "accuracy": 0.775,
          "method": "D008_galzitskaya_isunstruct",
          "target": "DP01661"
         },
         {
          "accuracy": 0.858,
          "method": "D002_cheng_predisorder",
          "target": "DP01661"
         },
         {
          "accuracy": 0.531,
          "method": "D009_gibson_globplot",
          "target": "DP01661"
         },
         {
          "accuracy": 0.778,
          "method": "D031_esnouf_jronn",
          "target": "DP01661"
         },
         {
          "accuracy": 0.47100000000000003,
          "method": "D011_jones_disopred3_disorder",
          "target": "DP01661"
         },
         {
          "accuracy": 0.677,
          "method": "D017_russel_disembl_465",
          "target": "DP01661"
         },
         {
          "accuracy": 0.6859999999999999,
          "method": "D001_callebaut_pyhca",
          "target": "DP01661"
         },
         {
          "accuracy": 0.5,
          "method": "D007_galzitskaya_foldunfold",
          "target": "DP01661"
         },
         {
          "accuracy": 0.461,
          "method": "D028_zhou_spot-disorder1",
          "target": "DP01661"
         },
         {
          "accuracy": 0.47700000000000004,
          "method": "D020_tosatto_espritzx",
          "target": "DP01661"
         },
         {
          "accuracy": 0.866,
          "method": "D029_zhou_spot-disorder2",
          "target": "DP01661"
         },
         {
          "accuracy": 0.7859999999999999,
          "method": "D006_dosztanyi_iupreds",
          "target": "DP01661"
         },
         {
          "accuracy": null,
          "method": "D013_kurgan_fidp_log",
          "target": "DP01661"
         },
         {
          "accuracy": 0.8959999999999999,
          "method": "D026_xu_aucpred",
          "target": "DP01661"
         },
         {
          "accuracy": 0.835,
          "method": "D022_vendruscolo_s2d1",
          "target": "DP01661"
         },
         {
          "accuracy": 0.43799999999999994,
          "method": "D032_kurgan_dflpred",
          "target": "DP01661"
         },
         {
          "accuracy": 0.503,
          "method": "D030_zhou_spot-disorder-single",
          "target": "DP01661"
         },
         {
          "accuracy": 0.38799999999999996,
          "method": "D010_hoque_dispred2",
          "target": "DP01661"
         },
         {
          "accuracy": 0.815,
          "method": "D024_vranken_disomine",
          "target": "DP01661"
         },
         {
          "accuracy": 0.76,
          "method": "D003_dosztanyi_iupred2al",
          "target": "DP01661"
         },
         {
          "accuracy": 0.731,
          "method": "D015_obradovic_vsl2",
          "target": "DP01661"
         },
         {
          "accuracy": 0.46399999999999997,
          "method": "D025_wallner_rawmsa",
          "target": "DP01661"
         },
         {
          "accuracy": 0.581,
          "method": "D016_russel_disembl_HL",
          "target": "DP01661"
         },
         {
          "accuracy": null,
          "method": "D014_kurgan_fidp_nn",
          "target": "DP01661"
         },
         {
          "accuracy": 0.7929999999999999,
          "method": "D023_vendruscolo_s2d2",
          "target": "DP01661"
         },
         {
          "accuracy": 0.821,
          "method": "D005_dosztanyi_iupredl",
          "target": "DP01661"
         },
         {
          "accuracy": 0.821,
          "method": "D019_tosatto_espritzn",
          "target": "DP01661"
         },
         {
          "accuracy": 0.927,
          "method": "D021_tosatto_mobidblite",
          "target": "DP01934"
         },
         {
          "accuracy": 0.46399999999999997,
          "method": "D027_xu_aucpred_no_profile",
          "target": "DP01934"
         },
         {
          "accuracy": 0.5,
          "method": "D018_tosatto_espritzd",
          "target": "DP01934"
         },
         {
          "accuracy": 0.91,
          "method": "D004_dosztanyi_iupred2as",
          "target": "DP01934"
         },
         {
          "accuracy": 0.966,
          "method": "D008_galzitskaya_isunstruct",
          "target": "DP01934"
         },
         {
          "accuracy": 0.807,
          "method": "D002_cheng_predisorder",
          "target": "DP01934"
         },
         {
          "accuracy": 0.743,
          "method": "D009_gibson_globplot",
          "target": "DP01934"
         },
         {
          "accuracy": 0.861,
          "method": "D031_esnouf_jronn",
          "target": "DP01934"
         },
         {
          "accuracy": 0.915,
          "method": "D011_jones_disopred3_disorder",
          "target": "DP01934"
         },
         {
          "accuracy": 0.7959999999999999,
          "method": "D017_russel_disembl_465",
          "target": "DP01934"
         },
         {
          "accuracy": 0.654,
          "method": "D001_callebaut_pyhca",
          "target": "DP01934"
         },
         {
          "accuracy": 0.5,
          "method": "D007_galzitskaya_foldunfold",
          "target": "DP01934"
         },
         {
          "accuracy": 0.927,
          "method": "D028_zhou_spot-disorder1",
          "target": "DP01934"
         },
         {
          "accuracy": 0.633,
          "method": "D020_tosatto_espritzx",
          "target": "DP01934"
         },
         {
          "accuracy": 0.9159999999999999,
          "method": "D029_zhou_spot-disorder2",
          "target": "DP01934"
         },
         {
          "accuracy": 0.915,
          "method": "D006_dosztanyi_iupreds",
          "target": "DP01934"
         },
         {
          "accuracy": 0.868,
          "method": "D013_kurgan_fidp_log",
          "target": "DP01934"
         },
         {
          "accuracy": 0.9129999999999999,
          "method": "D026_xu_aucpred",
          "target": "DP01934"
         },
         {
          "accuracy": 0.642,
          "method": "D022_vendruscolo_s2d1",
          "target": "DP01934"
         },
         {
          "accuracy": 0.514,
          "method": "D032_kurgan_dflpred",
          "target": "DP01934"
         },
         {
          "accuracy": 0.579,
          "method": "D030_zhou_spot-disorder-single",
          "target": "DP01934"
         },
         {
          "accuracy": 0.616,
          "method": "D010_hoque_dispred2",
          "target": "DP01934"
         },
         {
          "accuracy": 0.767,
          "method": "D024_vranken_disomine",
          "target": "DP01934"
         },
         {
          "accuracy": 0.846,
          "method": "D003_dosztanyi_iupred2al",
          "target": "DP01934"
         },
         {
          "accuracy": 0.856,
          "method": "D015_obradovic_vsl2",
          "target": "DP01934"
         },
         {
          "accuracy": 0.78,
          "method": "D025_wallner_rawmsa",
          "target": "DP01934"
         },
         {
          "accuracy": 0.799,
          "method": "D016_russel_disembl_HL",
          "target": "DP01934"
         },
         {
          "accuracy": 0.7140000000000001,
          "method": "D014_kurgan_fidp_nn",
          "target": "DP01934"
         },
         {
          "accuracy": 0.642,
          "method": "D023_vendruscolo_s2d2",
          "target": "DP01934"
         },
         {
          "accuracy": 0.835,
          "method": "D005_dosztanyi_iupredl",
          "target": "DP01934"
         },
         {
          "accuracy": 0.9079999999999999,
          "method": "D019_tosatto_espritzn",
          "target": "DP01934"
         },
         {
          "accuracy": null,
          "method": "D021_tosatto_mobidblite",
          "target": "DP01336"
         },
         {
          "accuracy": 0.6579999999999999,
          "method": "D027_xu_aucpred_no_profile",
          "target": "DP01336"
         },
         {
          "accuracy": 0.8440000000000001,
          "method": "D018_tosatto_espritzd",
          "target": "DP01336"
         },
         {
          "accuracy": 0.7909999999999999,
          "method": "D004_dosztanyi_iupred2as",
          "target": "DP01336"
         },
         {
          "accuracy": 0.625,
          "method": "D008_galzitskaya_isunstruct",
          "target": "DP01336"
         },
         {
          "accuracy": 0.6829999999999999,
          "method": "D002_cheng_predisorder",
          "target": "DP01336"
         },
         {
          "accuracy": 0.594,
          "method": "D009_gibson_globplot",
          "target": "DP01336"
         },
         {
          "accuracy": 0.847,
          "method": "D031_esnouf_jronn",
          "target": "DP01336"
         },
         {
          "accuracy": 0.943,
          "method": "D011_jones_disopred3_disorder",
          "target": "DP01336"
         },
         {
          "accuracy": 0.5579999999999999,
          "method": "D017_russel_disembl_465",
          "target": "DP01336"
         },
         {
          "accuracy": 0.794,
          "method": "D001_callebaut_pyhca",
          "target": "DP01336"
         },
         {
          "accuracy": 0.5,
          "method": "D007_galzitskaya_foldunfold",
          "target": "DP01336"
         },
         {
          "accuracy": 0.9309999999999999,
          "method": "D028_zhou_spot-disorder1",
          "target": "DP01336"
         },
         {
          "accuracy": 0.484,
          "method": "D020_tosatto_espritzx",
          "target": "DP01336"
         },
         {
          "accuracy": 0.8290000000000001,
          "method": "D029_zhou_spot-disorder2",
          "target": "DP01336"
         },
         {
          "accuracy": 0.7859999999999999,
          "method": "D006_dosztanyi_iupreds",
          "target": "DP01336"
         },
         {
          "accuracy": 0.5,
          "method": "D013_kurgan_fidp_log",
          "target": "DP01336"
         },
         {
          "accuracy": 0.903,
          "method": "D026_xu_aucpred",
          "target": "DP01336"
         },
         {
          "accuracy": 0.763,
          "method": "D022_vendruscolo_s2d1",
          "target": "DP01336"
         },
         {
          "accuracy": 0.59,
          "method": "D032_kurgan_dflpred",
          "target": "DP01336"
         },
         {
          "accuracy": 0.586,
          "method": "D030_zhou_spot-disorder-single",
          "target": "DP01336"
         },
         {
          "accuracy": 0.713,
          "method": "D010_hoque_dispred2",
          "target": "DP01336"
         },
         {
          "accuracy": 0.5760000000000001,
          "method": "D024_vranken_disomine",
          "target": "DP01336"
         },
         {
          "accuracy": 0.826,
          "method": "D003_dosztanyi_iupred2al",
          "target": "DP01336"
         },
         {
          "accuracy": 0.598,
          "method": "D015_obradovic_vsl2",
          "target": "DP01336"
         },
         {
          "accuracy": 0.677,
          "method": "D025_wallner_rawmsa",
          "target": "DP01336"
         },
         {
          "accuracy": 0.68,
          "method": "D016_russel_disembl_HL",
          "target": "DP01336"
         },
         {
          "accuracy": 0.665,
          "method": "D014_kurgan_fidp_nn",
          "target": "DP01336"
         },
         {
          "accuracy": 0.8059999999999999,
          "method": "D023_vendruscolo_s2d2",
          "target": "DP01336"
         },
         {
          "accuracy": 0.8320000000000001,
          "method": "D005_dosztanyi_iupredl",
          "target": "DP01336"
         },
         {
          "accuracy": 0.615,
          "method": "D019_tosatto_espritzn",
          "target": "DP01336"
         },
         {
          "accuracy": 0.9990000000000001,
          "method": "D021_tosatto_mobidblite",
          "target": "DP01933"
         },
         {
          "accuracy": 0.9690000000000001,
          "method": "D027_xu_aucpred_no_profile",
          "target": "DP01933"
         },
         {
          "accuracy": 0.5,
          "method": "D018_tosatto_espritzd",
          "target": "DP01933"
         },
         {
          "accuracy": 0.943,
          "method": "D004_dosztanyi_iupred2as",
          "target": "DP01933"
         },
         {
          "accuracy": 0.9209999999999999,
          "method": "D008_galzitskaya_isunstruct",
          "target": "DP01933"
         },
         {
          "accuracy": 0.892,
          "method": "D002_cheng_predisorder",
          "target": "DP01933"
         },
         {
          "accuracy": 0.88,
          "method": "D009_gibson_globplot",
          "target": "DP01933"
         },
         {
          "accuracy": 0.8370000000000001,
          "method": "D031_esnouf_jronn",
          "target": "DP01933"
         },
         {
          "accuracy": 0.927,
          "method": "D011_jones_disopred3_disorder",
          "target": "DP01933"
         },
         {
          "accuracy": 0.95,
          "method": "D017_russel_disembl_465",
          "target": "DP01933"
         },
         {
          "accuracy": 0.843,
          "method": "D001_callebaut_pyhca",
          "target": "DP01933"
         },
         {
          "accuracy": 0.5,
          "method": "D007_galzitskaya_foldunfold",
          "target": "DP01933"
         },
         {
          "accuracy": 0.956,
          "method": "D028_zhou_spot-disorder1",
          "target": "DP01933"
         },
         {
          "accuracy": 0.488,
          "method": "D020_tosatto_espritzx",
          "target": "DP01933"
         },
         {
          "accuracy": 0.9520000000000001,
          "method": "D029_zhou_spot-disorder2",
          "target": "DP01933"
         },
         {
          "accuracy": 0.941,
          "method": "D006_dosztanyi_iupreds",
          "target": "DP01933"
         },
         {
          "accuracy": 0.8759999999999999,
          "method": "D013_kurgan_fidp_log",
          "target": "DP01933"
         },
         {
          "accuracy": 0.975,
          "method": "D026_xu_aucpred",
          "target": "DP01933"
         },
         {
          "accuracy": 0.7440000000000001,
          "method": "D022_vendruscolo_s2d1",
          "target": "DP01933"
         },
         {
          "accuracy": 0.914,
          "method": "D032_kurgan_dflpred",
          "target": "DP01933"
         },
         {
          "accuracy": 0.833,
          "method": "D030_zhou_spot-disorder-single",
          "target": "DP01933"
         },
         {
          "accuracy": 0.89,
          "method": "D010_hoque_dispred2",
          "target": "DP01933"
         },
         {
          "accuracy": 0.49700000000000005,
          "method": "D024_vranken_disomine",
          "target": "DP01933"
         },
         {
          "accuracy": 0.9059999999999999,
          "method": "D003_dosztanyi_iupred2al",
          "target": "DP01933"
         },
         {
          "accuracy": 0.8220000000000001,
          "method": "D015_obradovic_vsl2",
          "target": "DP01933"
         },
         {
          "accuracy": 0.889,
          "method": "D025_wallner_rawmsa",
          "target": "DP01933"
         },
         {
          "accuracy": 0.599,
          "method": "D016_russel_disembl_HL",
          "target": "DP01933"
         },
         {
          "accuracy": 0.977,
          "method": "D014_kurgan_fidp_nn",
          "target": "DP01933"
         },
         {
          "accuracy": 0.736,
          "method": "D023_vendruscolo_s2d2",
          "target": "DP01933"
         },
         {
          "accuracy": 0.893,
          "method": "D005_dosztanyi_iupredl",
          "target": "DP01933"
         },
         {
          "accuracy": 0.972,
          "method": "D019_tosatto_espritzn",
          "target": "DP01933"
         },
         {
          "accuracy": 0.645,
          "method": "D021_tosatto_mobidblite",
          "target": "DP01461"
         },
         {
          "accuracy": 0.8909999999999999,
          "method": "D027_xu_aucpred_no_profile",
          "target": "DP01461"
         },
         {
          "accuracy": 0.43,
          "method": "D018_tosatto_espritzd",
          "target": "DP01461"
         },
         {
          "accuracy": 0.8959999999999999,
          "method": "D004_dosztanyi_iupred2as",
          "target": "DP01461"
         },
         {
          "accuracy": 0.871,
          "method": "D008_galzitskaya_isunstruct",
          "target": "DP01461"
         },
         {
          "accuracy": 0.883,
          "method": "D002_cheng_predisorder",
          "target": "DP01461"
         },
         {
          "accuracy": 0.57,
          "method": "D009_gibson_globplot",
          "target": "DP01461"
         },
         {
          "accuracy": 0.85,
          "method": "D031_esnouf_jronn",
          "target": "DP01461"
         },
         {
          "accuracy": 0.88,
          "method": "D011_jones_disopred3_disorder",
          "target": "DP01461"
         },
         {
          "accuracy": 0.596,
          "method": "D017_russel_disembl_465",
          "target": "DP01461"
         },
         {
          "accuracy": 0.713,
          "method": "D001_callebaut_pyhca",
          "target": "DP01461"
         },
         {
          "accuracy": 0.5,
          "method": "D007_galzitskaya_foldunfold",
          "target": "DP01461"
         },
         {
          "accuracy": 0.9179999999999999,
          "method": "D028_zhou_spot-disorder1",
          "target": "DP01461"
         },
         {
          "accuracy": 0.47600000000000003,
          "method": "D020_tosatto_espritzx",
          "target": "DP01461"
         },
         {
          "accuracy": 0.92,
          "method": "D029_zhou_spot-disorder2",
          "target": "DP01461"
         },
         {
          "accuracy": 0.904,
          "method": "D006_dosztanyi_iupreds",
          "target": "DP01461"
         },
         {
          "accuracy": 0.91,
          "method": "D013_kurgan_fidp_log",
          "target": "DP01461"
         },
         {
          "accuracy": 0.9209999999999999,
          "method": "D026_xu_aucpred",
          "target": "DP01461"
         },
         {
          "accuracy": 0.703,
          "method": "D022_vendruscolo_s2d1",
          "target": "DP01461"
         },
         {
          "accuracy": 0.49200000000000005,
          "method": "D032_kurgan_dflpred",
          "target": "DP01461"
         },
         {
          "accuracy": 0.87,
          "method": "D030_zhou_spot-disorder-single",
          "target": "DP01461"
         },
         {
          "accuracy": 0.466,
          "method": "D010_hoque_dispred2",
          "target": "DP01461"
         },
         {
          "accuracy": 0.5,
          "method": "D024_vranken_disomine",
          "target": "DP01461"
         },
         {
          "accuracy": 0.898,
          "method": "D003_dosztanyi_iupred2al",
          "target": "DP01461"
         },
         {
          "accuracy": 0.809,
          "method": "D015_obradovic_vsl2",
          "target": "DP01461"
         },
         {
          "accuracy": 0.863,
          "method": "D025_wallner_rawmsa",
          "target": "DP01461"
         },
         {
          "accuracy": 0.614,
          "method": "D016_russel_disembl_HL",
          "target": "DP01461"
         },
         {
          "accuracy": 0.5670000000000001,
          "method": "D014_kurgan_fidp_nn",
          "target": "DP01461"
         },
         {
          "accuracy": 0.732,
          "method": "D023_vendruscolo_s2d2",
          "target": "DP01461"
         },
         {
          "accuracy": 0.897,
          "method": "D005_dosztanyi_iupredl",
          "target": "DP01461"
         },
         {
          "accuracy": 0.8170000000000001,
          "method": "D019_tosatto_espritzn",
          "target": "DP01461"
         },
         {
          "accuracy": 0.787,
          "method": "D021_tosatto_mobidblite",
          "target": "DP01629"
         },
         {
          "accuracy": 0.8029999999999999,
          "method": "D027_xu_aucpred_no_profile",
          "target": "DP01629"
         },
         {
          "accuracy": 0.5,
          "method": "D018_tosatto_espritzd",
          "target": "DP01629"
         },
         {
          "accuracy": 0.904,
          "method": "D004_dosztanyi_iupred2as",
          "target": "DP01629"
         },
         {
          "accuracy": 0.825,
          "method": "D008_galzitskaya_isunstruct",
          "target": "DP01629"
         },
         {
          "accuracy": 0.87,
          "method": "D002_cheng_predisorder",
          "target": "DP01629"
         },
         {
          "accuracy": 0.6829999999999999,
          "method": "D009_gibson_globplot",
          "target": "DP01629"
         },
         {
          "accuracy": 0.8640000000000001,
          "method": "D031_esnouf_jronn",
          "target": "DP01629"
         },
         {
          "accuracy": 0.878,
          "method": "D011_jones_disopred3_disorder",
          "target": "DP01629"
         },
         {
          "accuracy": 0.6859999999999999,
          "method": "D017_russel_disembl_465",
          "target": "DP01629"
         },
         {
          "accuracy": 0.805,
          "method": "D001_callebaut_pyhca",
          "target": "DP01629"
         },
         {
          "accuracy": 0.5,
          "method": "D007_galzitskaya_foldunfold",
          "target": "DP01629"
         },
         {
          "accuracy": 0.909,
          "method": "D028_zhou_spot-disorder1",
          "target": "DP01629"
         },
         {
          "accuracy": 0.792,
          "method": "D020_tosatto_espritzx",
          "target": "DP01629"
         },
         {
          "accuracy": 0.919,
          "method": "D029_zhou_spot-disorder2",
          "target": "DP01629"
         },
         {
          "accuracy": 0.897,
          "method": "D006_dosztanyi_iupreds",
          "target": "DP01629"
         },
         {
          "accuracy": null,
          "method": "D013_kurgan_fidp_log",
          "target": "DP01629"
         },
         {
          "accuracy": 0.93,
          "method": "D026_xu_aucpred",
          "target": "DP01629"
         },
         {
          "accuracy": 0.7240000000000001,
          "method": "D022_vendruscolo_s2d1",
          "target": "DP01629"
         },
         {
          "accuracy": 0.523,
          "method": "D032_kurgan_dflpred",
          "target": "DP01629"
         },
         {
          "accuracy": 0.8109999999999999,
          "method": "D030_zhou_spot-disorder-single",
          "target": "DP01629"
         },
         {
          "accuracy": 0.534,
          "method": "D010_hoque_dispred2",
          "target": "DP01629"
         },
         {
          "accuracy": 0.628,
          "method": "D024_vranken_disomine",
          "target": "DP01629"
         },
         {
          "accuracy": 0.8079999999999999,
          "method": "D003_dosztanyi_iupred2al",
          "target": "DP01629"
         },
         {
          "accuracy": 0.6890000000000001,
          "method": "D015_obradovic_vsl2",
          "target": "DP01629"
         },
         {
          "accuracy": 0.945,
          "method": "D025_wallner_rawmsa",
          "target": "DP01629"
         },
         {
          "accuracy": 0.513,
          "method": "D016_russel_disembl_HL",
          "target": "DP01629"
         },
         {
          "accuracy": null,
          "method": "D014_kurgan_fidp_nn",
          "target": "DP01629"
         },
         {
          "accuracy": 0.7659999999999999,
          "method": "D023_vendruscolo_s2d2",
          "target": "DP01629"
         },
         {
          "accuracy": 0.805,
          "method": "D005_dosztanyi_iupredl",
          "target": "DP01629"
         },
         {
          "accuracy": 0.838,
          "method": "D019_tosatto_espritzn",
          "target": "DP01629"
         },
         {
          "accuracy": 0.968,
          "method": "D021_tosatto_mobidblite",
          "target": "DP02333"
         },
         {
          "accuracy": 0.938,
          "method": "D027_xu_aucpred_no_profile",
          "target": "DP02333"
         },
         {
          "accuracy": 0.5,
          "method": "D018_tosatto_espritzd",
          "target": "DP02333"
         },
         {
          "accuracy": 0.899,
          "method": "D004_dosztanyi_iupred2as",
          "target": "DP02333"
         },
         {
          "accuracy": 0.902,
          "method": "D008_galzitskaya_isunstruct",
          "target": "DP02333"
         },
         {
          "accuracy": 0.909,
          "method": "D002_cheng_predisorder",
          "target": "DP02333"
         },
         {
          "accuracy": 0.6990000000000001,
          "method": "D009_gibson_globplot",
          "target": "DP02333"
         },
         {
          "accuracy": 0.915,
          "method": "D031_esnouf_jronn",
          "target": "DP02333"
         },
         {
          "accuracy": 0.85,
          "method": "D011_jones_disopred3_disorder",
          "target": "DP02333"
         },
         {
          "accuracy": 0.8029999999999999,
          "method": "D017_russel_disembl_465",
          "target": "DP02333"
         },
         {
          "accuracy": 0.9159999999999999,
          "method": "D001_callebaut_pyhca",
          "target": "DP02333"
         },
         {
          "accuracy": 0.5,
          "method": "D007_galzitskaya_foldunfold",
          "target": "DP02333"
         },
         {
          "accuracy": 0.968,
          "method": "D028_zhou_spot-disorder1",
          "target": "DP02333"
         },
         {
          "accuracy": 0.8390000000000001,
          "method": "D020_tosatto_espritzx",
          "target": "DP02333"
         },
         {
          "accuracy": 0.93,
          "method": "D029_zhou_spot-disorder2",
          "target": "DP02333"
         },
         {
          "accuracy": 0.9009999999999999,
          "method": "D006_dosztanyi_iupreds",
          "target": "DP02333"
         },
         {
          "accuracy": 0.909,
          "method": "D013_kurgan_fidp_log",
          "target": "DP02333"
         },
         {
          "accuracy": 0.9129999999999999,
          "method": "D026_xu_aucpred",
          "target": "DP02333"
         },
         {
          "accuracy": 0.7909999999999999,
          "method": "D022_vendruscolo_s2d1",
          "target": "DP02333"
         },
         {
          "accuracy": 0.43700000000000006,
          "method": "D032_kurgan_dflpred",
          "target": "DP02333"
         },
         {
          "accuracy": 0.927,
          "method": "D030_zhou_spot-disorder-single",
          "target": "DP02333"
         },
         {
          "accuracy": 0.583,
          "method": "D010_hoque_dispred2",
          "target": "DP02333"
         },
         {
          "accuracy": 0.9079999999999999,
          "method": "D024_vranken_disomine",
          "target": "DP02333"
         },
         {
          "accuracy": 0.91,
          "method": "D003_dosztanyi_iupred2al",
          "target": "DP02333"
         },
         {
          "accuracy": 0.8740000000000001,
          "method": "D015_obradovic_vsl2",
          "target": "DP02333"
         },
         {
          "accuracy": 0.9690000000000001,
          "method": "D025_wallner_rawmsa",
          "target": "DP02333"
         },
         {
          "accuracy": 0.672,
          "method": "D016_russel_disembl_HL",
          "target": "DP02333"
         },
         {
          "accuracy": 0.8270000000000001,
          "method": "D014_kurgan_fidp_nn",
          "target": "DP02333"
         },
         {
          "accuracy": 0.789,
          "method": "D023_vendruscolo_s2d2",
          "target": "DP02333"
         },
         {
          "accuracy": 0.937,
          "method": "D005_dosztanyi_iupredl",
          "target": "DP02333"
         },
         {
          "accuracy": 0.9229999999999999,
          "method": "D019_tosatto_espritzn",
          "target": "DP02333"
         }
        ]
       },
       "encoding": {
        "color": {
         "field": "accuracy",
         "scale": {
          "scheme": "greenblue"
         },
         "type": "quantitative"
        },
        "x": {
         "field": "target",
         "sort": {
          "field": "accuracy",
          "op": "mean",
          "order": "ascending"
         },
         "type": "nominal"
        },
        "y": {
         "field": "method",
         "type": "nominal"
        }
       },
       "mark": "rect"
      },
      "image/png": "[encoded data removed]",
      "text/plain": [
       "<VegaLite 2 object>\n",
       "\n",
       "If you see this message, it means the renderer has not been properly enabled\n",
       "for the frontend that you are using. For more information, see\n",
       "https://altair-viz.github.io/user_guide/troubleshooting.html\n"
      ]
     },
     "execution_count": 117,
     "metadata": {},
     "output_type": "execute_result"
    }
   ],
   "source": [
    "interval = alt.selection_interval()\n",
    "\n",
    "Chart(pibaf).mark_rect().encode(\n",
    "    x=alt.X(\"target\", sort=alt.EncodingSortField(\n",
    "            field=\"accuracy\",  # The field to use for the sort\n",
    "            op=\"mean\",  # The operation to run on the field prior to sorting\n",
    "            order=\"ascending\"  # The order to sort in),\n",
    "    )),\n",
    "    y=alt.Y(\"method\"),\n",
    "    color=alt.Color('accuracy', scale=alt.Scale(scheme='greenblue'))\n",
    ")"
   ]
  },
  {
   "cell_type": "code",
   "execution_count": 88,
   "metadata": {},
   "outputs": [
    {
     "data": {
      "image/png": "[encoded data removed]",
      "text/plain": [
       "<Figure size 720x720 with 4 Axes>"
      ]
     },
     "metadata": {
      "needs_background": "light"
     },
     "output_type": "display_data"
    }
   ],
   "source": [
    "pibaf = pi.xs('bal_acc', level=1).reindex(pi.mean().sort_values().index, axis=1).fillna(0.5)\n",
    "ax = sns.clustermap(pibaf, cmap=\"Blues\", col_cluster=False, edgecolor='w', linewidth=1);"
   ]
  },
  {
   "cell_type": "code",
   "execution_count": 121,
   "metadata": {},
   "outputs": [
    {
     "data": {
      "image/png": "[encoded data removed]",
      "text/plain": [
       "<Figure size 432x288 with 1 Axes>"
      ]
     },
     "metadata": {
      "needs_background": "light"
     },
     "output_type": "display_data"
    }
   ],
   "source": [
    "def parse_curve_file(curve_file):\n",
    "    with open(curve_file) as f:\n",
    "        for line in f:\n",
    "            code, _, auc, *points = line.split()\n",
    "            auc = float(auc)\n",
    "            x, y, thr = zip(*map(lambda s: map(float, s.split(',')), points))\n",
    "\n",
    "            yield code, auc, np.array(x), np.array(y), np.array(thr)\n",
    "\n",
    "# initialize a figure and an ax            \n",
    "fig, ax = plt.subplots()\n",
    "# plot diagonal\n",
    "ax.plot([0, 1], [0, 1], linestyle='--', color='k')\n",
    "\n",
    "# plot all curves in evaluation file\n",
    "for curve_data in parse_curve_file('/home/marnec/Projects/CAID/test/new-disprot-linker_simple_rocPoints.txt'):\n",
    "    code, auc_roc, x, y, thr = curve_data\n",
    "    ax.plot(x, y, label='{} AUC: {:.2f}'.format(code, auc_roc))\n",
    "\n",
    "# plot baseline curve from its own file\n",
    "for curve_data in parse_curve_file('/home/marnec/Projects/CAID/baseline/len-negs_new-disprot-linker_cons_rocPoints.txt'):\n",
    "    code, auc_roc, x, y, thr = curve_data\n",
    "    ax.plot(x, y, label='{} AUC: {:.2f}'.format(code, auc_roc))\n",
    "\n",
    "ax.set_xlabel('fpr')\n",
    "ax.set_ylabel('tpr');"
   ]
  },
  {
   "cell_type": "code",
   "execution_count": 150,
   "metadata": {},
   "outputs": [],
   "source": [
    "# alt.data_transformers.enable('csv')\n",
    "table = []\n",
    "for label, auc, xs, ys, thrs in parse_curve_file('/home/marnec/Projects/CAID/test/new-disprot-linker_simple_rocPoints.txt'):\n",
    "    for x, y in zip(xs, ys):\n",
    "        table.append([label, x, y])"
   ]
  },
  {
   "cell_type": "code",
   "execution_count": 152,
   "metadata": {},
   "outputs": [
    {
     "data": {
      "application/vnd.vegalite.v2+json": {
       "$schema": "https://vega.github.io/schema/vega-lite/v2.6.0.json",
       "config": {
        "view": {
         "height": 300,
         "width": 400
        }
       },
       "data": {
        "format": {
         "type": "csv"
        },
        "url": "altair-data-c704a589853ab551c8f900ef91f5b3e5.csv"
       },
       "encoding": {
        "color": {
         "field": "method",
         "type": "nominal"
        },
        "x": {
         "field": "x",
         "type": "quantitative"
        },
        "y": {
         "field": "y",
         "type": "quantitative"
        }
       },
       "mark": "line",
       "selection": {
        "selector068": {
         "bind": "scales",
         "encodings": [
          "x",
          "y"
         ],
         "mark": {
          "fill": "#333",
          "fillOpacity": 0.125,
          "stroke": "white"
         },
         "on": "[mousedown, window:mouseup] > window:mousemove!",
         "resolve": "global",
         "translate": "[mousedown, window:mouseup] > window:mousemove!",
         "type": "interval",
         "zoom": "wheel!"
        }
       }
      },
      "image/png": "[encoded data removed]",
      "text/plain": [
       "<VegaLite 2 object>\n",
       "\n",
       "If you see this message, it means the renderer has not been properly enabled\n",
       "for the frontend that you are using. For more information, see\n",
       "https://altair-viz.github.io/user_guide/troubleshooting.html\n"
      ]
     },
     "execution_count": 152,
     "metadata": {
      "application/vnd.vegalite.v2+json": {
       "embed_options": {
        "renderer": "svg"
       }
      }
     },
     "output_type": "execute_result"
    }
   ],
   "source": [
    "alt.Chart(pd.DataFrame(table, columns=['method', 'x', 'y'])).mark_line().encode(\n",
    "    x='x',\n",
    "    y='y',\n",
    "    color='method'\n",
    ")\n"
   ]
  },
  {
   "cell_type": "code",
   "execution_count": 147,
   "metadata": {},
   "outputs": [
    {
     "data": {
      "image/png": "[encoded data removed]",
      "text/plain": [
       "<Figure size 432x288 with 1 Axes>"
      ]
     },
     "metadata": {
      "needs_background": "light"
     },
     "output_type": "display_data"
    }
   ],
   "source": [
    "# initialize a figure and an ax            \n",
    "fig, ax = plt.subplots()\n",
    "# plot diagonal\n",
    "ax.plot([0, 1], [1, 0], linestyle='--', color='k')\n",
    "\n",
    "# plot all curves in evaluation file\n",
    "for i, curve_data in enumerate(parse_curve_file('/home/marnec/Projects/CAID/test/new-disprot-linker_simple_prcPoints.txt')):\n",
    "    code, auc_prc, x, y, thr = curve_data\n",
    "    ax.plot(x, y, label='{} AUC: {:.2f}'.format(code, auc_prc))\n",
    "\n",
    "# plot baseline curve from its own file\n",
    "for curve_data in parse_curve_file('/home/marnec/Projects/CAID/baseline/len-negs_new-disprot-linker_cons_prcPoints.txt'):\n",
    "    code, auc_prc, x, y, thr = curve_data\n",
    "    ax.plot(x, y, label='{} AUC: {:.2f}'.format(code, auc_prc))\n",
    "\n",
    "ax.set_xlabel('recall')\n",
    "ax.set_ylabel('precision');"
   ]
  },
  {
   "cell_type": "code",
   "execution_count": 11,
   "metadata": {},
   "outputs": [
    {
     "data": {
      "image/png": "[encoded data removed]",
      "text/plain": [
       "<Figure size 432x288 with 1 Axes>"
      ]
     },
     "metadata": {
      "needs_background": "light"
     },
     "output_type": "display_data"
    }
   ],
   "source": [
    "roc = list()\n",
    "prc = list()\n",
    "for roc_data in parse_curve_file('/home/marnec/Projects/CAID/test/new-disprot-linker_simple_rocPoints.txt'):\n",
    "    code, aucs, x, y, thr = roc_data\n",
    "    auc_roc = auc(x[x<=0.2], y[x<=0.2])\n",
    "    auc_roc /= 0.2\n",
    "    roc.append([code, auc_roc])\n",
    "    \n",
    "for prc_data in parse_curve_file('/home/marnec/Projects/CAID/test/new-disprot-linker_simple_prcPoints.txt'):\n",
    "    code, aucs, x, y, thr = prc_data\n",
    "    auc_prc = auc(x[x>=0.8], y[x>=0.8])\n",
    "    auc_prc /= 0.2\n",
    "    prc.append([code, auc_prc])\n",
    "\n",
    "roc = pd.DataFrame(roc, columns=['code', 'auc_roc']).set_index('code')\n",
    "prc = pd.DataFrame(prc, columns=['code', 'auc_prc']).set_index('code')\n",
    "\n",
    "sc = pd.concat([prc, roc], axis=1)\n",
    "ax = sc.plot.scatter(x='auc_prc', y='auc_roc')\n",
    "\n",
    "for k, v in sc.iterrows():\n",
    "    ax.annotate(k, v)\n",
    "    \n",
    "ax = ax.plot([0, 0.5], [0, 0.5], color='k', linestyle='--')"
   ]
  },
  {
   "cell_type": "code",
   "execution_count": 12,
   "metadata": {},
   "outputs": [
    {
     "data": {
      "image/png": "[encoded data removed]",
      "text/plain": [
       "<Figure size 432x288 with 1 Axes>"
      ]
     },
     "metadata": {
      "needs_background": "light"
     },
     "output_type": "display_data"
    }
   ],
   "source": [
    "ax = pi.xs('bal_acc', level=1).mean().hist(bins=20)\n",
    "ax.set_xlabel('bal acc')\n",
    "ax.set_ylabel('frequency');"
   ]
  },
  {
   "cell_type": "code",
   "execution_count": null,
   "metadata": {},
   "outputs": [],
   "source": []
  }
 ],
 "metadata": {
  "hide_input": false,
  "kernelspec": {
   "display_name": "3.7.1",
   "language": "python",
   "name": "3.7.1"
  },
  "language_info": {
   "codemirror_mode": {
    "name": "ipython",
    "version": 3
   },
   "file_extension": ".py",
   "mimetype": "text/x-python",
   "name": "python",
   "nbconvert_exporter": "python",
   "pygments_lexer": "ipython3",
   "version": "3.7.1"
  }
 },
 "nbformat": 4,
 "nbformat_minor": 2
}
